{
 "cells": [
  {
   "cell_type": "markdown",
   "id": "8a7d1494",
   "metadata": {},
   "source": [
    "# 🗂️ Python Dictionaries – From Basics to Advanced\n",
    "\n",
    "## 📌 Introduction\n",
    "\n",
    "A **dictionary** is an unordered, mutable, and indexed collection of **key-value pairs**. It's one of Python's most powerful data structures for organizing and accessing data.\n",
    "\n",
    "Dictionaries are defined using curly braces `{}` and colons `:` to separate keys and values."
   ]
  },
  {
   "cell_type": "markdown",
   "id": "4d79f39e",
   "metadata": {},
   "source": [
    "## 🧱 1. Creating Dictionaries"
   ]
  },
  {
   "cell_type": "code",
   "execution_count": 1,
   "id": "6c8400d9",
   "metadata": {},
   "outputs": [],
   "source": [
    "# Empty dictionary\n",
    "empty = {}\n",
    "\n",
    "# Simple dictionary\n",
    "student = {\n",
    "    \"name\": \"Alice\",\n",
    "    \"age\": 22,\n",
    "    \"course\": \"Computer Science\"\n",
    "}\n",
    "\n",
    "# Using dict() constructor\n",
    "profile = dict(username=\"admin\", role=\"moderator\")"
   ]
  },
  {
   "cell_type": "markdown",
   "id": "c270c56d",
   "metadata": {},
   "source": [
    "> Keys must be **immutable** (strings, numbers, tuples), and **unique**.  \n",
    "> Values can be of any type and can be duplicated."
   ]
  },
  {
   "cell_type": "markdown",
   "id": "f0234b1e",
   "metadata": {},
   "source": [
    "## 🔎 2. Accessing Values"
   ]
  },
  {
   "cell_type": "code",
   "execution_count": 2,
   "id": "2f7c8a18",
   "metadata": {},
   "outputs": [
    {
     "name": "stdout",
     "output_type": "stream",
     "text": [
      "Alice\n",
      "22\n",
      "N/A\n"
     ]
    }
   ],
   "source": [
    "print(student[\"name\"])     # Alice\n",
    "print(student.get(\"age\"))  # 22\n",
    "print(student.get(\"grade\", \"N/A\"))  # Default if key not found"
   ]
  },
  {
   "cell_type": "markdown",
   "id": "5ef064b5",
   "metadata": {},
   "source": [
    "## 🧬 3. Modifying Values"
   ]
  },
  {
   "cell_type": "code",
   "execution_count": 3,
   "id": "8a9eb9e9",
   "metadata": {},
   "outputs": [
    {
     "name": "stdout",
     "output_type": "stream",
     "text": [
      "{'name': 'Alice', 'age': 23, 'course': 'Computer Science', 'grade': 'A'}\n"
     ]
    }
   ],
   "source": [
    "student[\"age\"] = 23\n",
    "student[\"grade\"] = \"A\"\n",
    "print(student)"
   ]
  },
  {
   "cell_type": "markdown",
   "id": "46ee1fca",
   "metadata": {},
   "source": [
    "## ➕ 4. Adding & Removing Items\n",
    "\n",
    "### ✅ Add or update a key"
   ]
  },
  {
   "cell_type": "code",
   "execution_count": 4,
   "id": "624896bc",
   "metadata": {},
   "outputs": [],
   "source": [
    "student[\"email\"] = \"alice@example.com\""
   ]
  },
  {
   "cell_type": "markdown",
   "id": "e4d0e064",
   "metadata": {},
   "source": [
    "### ✅ Remove a key"
   ]
  },
  {
   "cell_type": "code",
   "execution_count": 5,
   "id": "11dee57c",
   "metadata": {},
   "outputs": [],
   "source": [
    "del student[\"email\"]"
   ]
  },
  {
   "cell_type": "markdown",
   "id": "51fd6544",
   "metadata": {},
   "source": [
    "### ✅ Remove and return a key"
   ]
  },
  {
   "cell_type": "code",
   "execution_count": 6,
   "id": "87b776d9",
   "metadata": {},
   "outputs": [
    {
     "data": {
      "text/plain": [
       "'Computer Science'"
      ]
     },
     "execution_count": 6,
     "metadata": {},
     "output_type": "execute_result"
    }
   ],
   "source": [
    "student.pop(\"course\")"
   ]
  },
  {
   "cell_type": "markdown",
   "id": "8609abc1",
   "metadata": {},
   "source": [
    "### ✅ Clear all items"
   ]
  },
  {
   "cell_type": "code",
   "execution_count": 7,
   "id": "aae82946",
   "metadata": {},
   "outputs": [],
   "source": [
    "student.clear()"
   ]
  },
  {
   "cell_type": "markdown",
   "id": "deb4aee1",
   "metadata": {},
   "source": [
    "## 🔁 5. Looping Through Dictionaries"
   ]
  },
  {
   "cell_type": "code",
   "execution_count": 8,
   "id": "0b2ae2a5",
   "metadata": {},
   "outputs": [],
   "source": [
    "# Loop through keys\n",
    "for key in student:\n",
    "    print(key)\n",
    "\n",
    "# Loop through values\n",
    "for value in student.values():\n",
    "    print(value)\n",
    "\n",
    "# Loop through key-value pairs\n",
    "for key, value in student.items():\n",
    "    print(key, \"=>\", value)"
   ]
  },
  {
   "cell_type": "markdown",
   "id": "75fcbe01",
   "metadata": {},
   "source": [
    "## 🧰 6. Dictionary Methods\n",
    "\n",
    "| Method             | Description                                |\n",
    "|--------------------|--------------------------------------------|\n",
    "| `keys()`           | Returns all keys                           |\n",
    "| `values()`         | Returns all values                         |\n",
    "| `items()`          | Returns all (key, value) pairs             |\n",
    "| `get(key)`         | Returns value or `None` (optional default) |\n",
    "| `update(dict)`     | Updates with another dictionary            |\n",
    "| `pop(key)`         | Removes a key and returns its value        |\n",
    "| `clear()`          | Removes all key-value pairs                |\n",
    "| `copy()`           | Returns a shallow copy                     |\n",
    "| `setdefault()`     | Sets default if key is missing             |"
   ]
  },
  {
   "cell_type": "markdown",
   "id": "8d4ea2e5",
   "metadata": {},
   "source": [
    "## 📦 7. Nested Dictionaries\n",
    "\n",
    "Dictionaries inside dictionaries — great for structured data."
   ]
  },
  {
   "cell_type": "code",
   "execution_count": 9,
   "id": "40dea9ce",
   "metadata": {},
   "outputs": [
    {
     "name": "stdout",
     "output_type": "stream",
     "text": [
      "alice@mail.com\n"
     ]
    }
   ],
   "source": [
    "users = {\n",
    "    \"alice\": {\"email\": \"alice@mail.com\", \"active\": True},\n",
    "    \"bob\": {\"email\": \"bob@mail.com\", \"active\": False}\n",
    "}\n",
    "\n",
    "print(users[\"alice\"][\"email\"])"
   ]
  },
  {
   "cell_type": "markdown",
   "id": "de9d076b",
   "metadata": {},
   "source": [
    "## 🧮 8. Dictionary Comprehensions\n",
    "\n",
    "A concise way to generate dictionaries."
   ]
  },
  {
   "cell_type": "code",
   "execution_count": 10,
   "id": "757964e4",
   "metadata": {},
   "outputs": [
    {
     "name": "stdout",
     "output_type": "stream",
     "text": [
      "{1: 1, 2: 4, 3: 9, 4: 16, 5: 25}\n"
     ]
    }
   ],
   "source": [
    "# Square numbers using comprehension\n",
    "squares = {x: x**2 for x in range(1, 6)}\n",
    "print(squares)\n",
    "\n",
    "# Flip keys and values\n",
    "original = {\"a\": 1, \"b\": 2}\n",
    "flipped = {v: k for k, v in original.items()}"
   ]
  },
  {
   "cell_type": "markdown",
   "id": "f4f37a8a",
   "metadata": {},
   "source": [
    "## ⚠️ 9. Common Mistakes\n",
    "\n",
    "- ❌ Using a mutable key like a list (invalid)\n",
    "- ❌ Forgetting to use quotes around string keys\n",
    "- ❌ Using `student[\"invalid_key\"]` without checking — may raise error"
   ]
  },
  {
   "cell_type": "markdown",
   "id": "6f2f5059",
   "metadata": {},
   "source": [
    "## 🧪 10. Practice Exercises\n",
    "\n",
    "1. Create a dictionary of 5 countries and their capitals. Print them all using a loop."
   ]
  },
  {
   "cell_type": "code",
   "execution_count": 11,
   "id": "b0a78e5d",
   "metadata": {},
   "outputs": [],
   "source": [
    "# Your code here"
   ]
  },
  {
   "cell_type": "markdown",
   "id": "9db1bafd",
   "metadata": {},
   "source": [
    "2. Ask the user for 3 contacts (name & phone) and store them in a dictionary."
   ]
  },
  {
   "cell_type": "code",
   "execution_count": 12,
   "id": "fcfa1d40",
   "metadata": {},
   "outputs": [],
   "source": [
    "# Your code here"
   ]
  },
  {
   "cell_type": "markdown",
   "id": "a8f73e5d",
   "metadata": {},
   "source": [
    "3. Create a dictionary of squares from 1 to 10 using dictionary comprehension."
   ]
  },
  {
   "cell_type": "code",
   "execution_count": 13,
   "id": "fa858285",
   "metadata": {},
   "outputs": [],
   "source": [
    "# Your code here"
   ]
  },
  {
   "cell_type": "markdown",
   "id": "3d65f9af",
   "metadata": {},
   "source": [
    "4. Write a function that counts the frequency of each character in a string."
   ]
  },
  {
   "cell_type": "code",
   "execution_count": 14,
   "id": "83fbc590",
   "metadata": {},
   "outputs": [],
   "source": [
    "# Your code here"
   ]
  },
  {
   "cell_type": "markdown",
   "id": "f4bc4fc0",
   "metadata": {},
   "source": [
    "5. Use a nested dictionary to store student names and their marks in 3 subjects."
   ]
  },
  {
   "cell_type": "code",
   "execution_count": 15,
   "id": "f522bcd6",
   "metadata": {},
   "outputs": [],
   "source": [
    "# Your code here"
   ]
  },
  {
   "cell_type": "markdown",
   "id": "d36e2a6f",
   "metadata": {},
   "source": [
    "## ✅ Summary\n",
    "\n",
    "- Dictionaries store data as **key-value pairs**.\n",
    "- Keys must be unique and immutable.\n",
    "- Use `.get()`, `.items()`, `.values()`, `.update()` for safe access and manipulation.\n",
    "- Dictionary comprehensions are powerful for generating data.\n",
    "- Nested dictionaries enable complex structures."
   ]
  }
 ],
 "metadata": {
  "kernelspec": {
   "display_name": "Python 3",
   "language": "python",
   "name": "python3"
  },
  "language_info": {
   "codemirror_mode": {
    "name": "ipython",
    "version": 3
   },
   "file_extension": ".py",
   "mimetype": "text/x-python",
   "name": "python",
   "nbconvert_exporter": "python",
   "pygments_lexer": "ipython3",
   "version": "3.13.2"
  }
 },
 "nbformat": 4,
 "nbformat_minor": 5
}
