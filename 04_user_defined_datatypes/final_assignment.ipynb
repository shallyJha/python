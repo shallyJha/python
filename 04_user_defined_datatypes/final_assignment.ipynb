{
 "cells": [
  {
   "cell_type": "markdown",
   "id": "0c08e654",
   "metadata": {},
   "source": [
    "# 🧪 Assignment: Lists, Tuples, Sets, and Dictionaries\n",
    "\n",
    "Complete the following exercises to reinforce your understanding of core Python data structures."
   ]
  },
  {
   "cell_type": "markdown",
   "id": "2e7126c2",
   "metadata": {},
   "source": [
    "## 📚 Part 1: Lists"
   ]
  },
  {
   "cell_type": "markdown",
   "id": "a9f2ad93",
   "metadata": {},
   "source": [
    "### 1. Create a list of 10 numbers. Write code to:\n",
    "- Print the first and last elements\n",
    "- Replace the 5th element with 999\n",
    "- Append a new number to the end\n",
    "- Remove the 2nd element"
   ]
  },
  {
   "cell_type": "code",
   "execution_count": 1,
   "id": "99bf0381",
   "metadata": {},
   "outputs": [],
   "source": [
    "# Your code here"
   ]
  },
  {
   "cell_type": "markdown",
   "id": "d04e5205",
   "metadata": {},
   "source": [
    "### 2. Write a Python program that:\n",
    "- Takes 5 names from the user and stores them in a list\n",
    "- Sorts the list alphabetically\n",
    "- Reverses the sorted list"
   ]
  },
  {
   "cell_type": "code",
   "execution_count": 2,
   "id": "79caffc4",
   "metadata": {},
   "outputs": [],
   "source": [
    "# Your code here"
   ]
  },
  {
   "cell_type": "markdown",
   "id": "78713a0d",
   "metadata": {},
   "source": [
    "### 3. Use **list comprehension** to:\n",
    "- Generate a list of cubes of all odd numbers from 1 to 20"
   ]
  },
  {
   "cell_type": "code",
   "execution_count": 3,
   "id": "3a927602",
   "metadata": {},
   "outputs": [],
   "source": [
    "# Your code here"
   ]
  },
  {
   "cell_type": "markdown",
   "id": "c0b2c28b",
   "metadata": {},
   "source": [
    "## 🔗 Part 2: Tuples\n",
    "\n",
    "### 4. Create a tuple of 6 integers and:\n",
    "- Print the 2nd to 5th elements using slicing\n",
    "- Count how many times a specific number appears\n",
    "- Find the index of a specific number"
   ]
  },
  {
   "cell_type": "code",
   "execution_count": 4,
   "id": "dcdc3ccc",
   "metadata": {},
   "outputs": [],
   "source": [
    "# Your code here"
   ]
  },
  {
   "cell_type": "markdown",
   "id": "2408356d",
   "metadata": {},
   "source": [
    "### 5. Unpack the following tuple and print the values:"
   ]
  },
  {
   "cell_type": "code",
   "execution_count": 5,
   "id": "1c48bc2b",
   "metadata": {},
   "outputs": [],
   "source": [
    "student = (\"John\", 19, \"Physics\")\n",
    "# Your code here"
   ]
  },
  {
   "cell_type": "markdown",
   "id": "2a4c4ec4",
   "metadata": {},
   "source": [
    "### 6. Create a tuple with a list inside it. Modify the list inside the tuple."
   ]
  },
  {
   "cell_type": "code",
   "execution_count": 6,
   "id": "b6c58f5f",
   "metadata": {},
   "outputs": [],
   "source": [
    "# Your code here"
   ]
  },
  {
   "cell_type": "markdown",
   "id": "c37a0a93",
   "metadata": {},
   "source": [
    "## 🧺 Part 3: Sets\n",
    "\n",
    "### 7. Create a set with numbers from 1 to 10. Then:\n",
    "- Add 11 and 12\n",
    "- Remove 2 and 4\n",
    "- Print whether 7 is in the set"
   ]
  },
  {
   "cell_type": "code",
   "execution_count": 7,
   "id": "f9d95670",
   "metadata": {},
   "outputs": [],
   "source": [
    "# Your code here"
   ]
  },
  {
   "cell_type": "markdown",
   "id": "b68afbfc",
   "metadata": {},
   "source": [
    "### 8. Write a program that:\n",
    "- Takes two sets from the user\n",
    "- Prints the union, intersection, and symmetric difference of the sets"
   ]
  },
  {
   "cell_type": "code",
   "execution_count": 8,
   "id": "ab41fa45",
   "metadata": {},
   "outputs": [],
   "source": [
    "# Your code here"
   ]
  },
  {
   "cell_type": "markdown",
   "id": "ea7e786d",
   "metadata": {},
   "source": [
    "### 9. Use a set to:\n",
    "- Find all unique characters in a user-entered string\n",
    "- Count how many unique vowels are present"
   ]
  },
  {
   "cell_type": "code",
   "execution_count": 9,
   "id": "68c83a6c",
   "metadata": {},
   "outputs": [],
   "source": [
    "# Your code here"
   ]
  },
  {
   "cell_type": "markdown",
   "id": "05d02957",
   "metadata": {},
   "source": [
    "## 🗂️ Part 4: Dictionaries\n",
    "\n",
    "### 10. Create a dictionary with the following student data:\n",
    "- Name, Age, Roll Number, and Grade\n",
    "\n",
    "Update the grade and add a new key `\"email\"`. Then, loop through the dictionary to print all key-value pairs."
   ]
  },
  {
   "cell_type": "code",
   "execution_count": 10,
   "id": "011ade98",
   "metadata": {},
   "outputs": [],
   "source": [
    "# Your code here"
   ]
  },
  {
   "cell_type": "markdown",
   "id": "a9373d84",
   "metadata": {},
   "source": [
    "### 11. Ask the user for 3 products and their prices. Store them in a dictionary and print:\n",
    "- The average price\n",
    "- The product with the highest price"
   ]
  },
  {
   "cell_type": "code",
   "execution_count": 11,
   "id": "068f5e44",
   "metadata": {},
   "outputs": [],
   "source": [
    "# Your code here"
   ]
  },
  {
   "cell_type": "markdown",
   "id": "3fa0f525",
   "metadata": {},
   "source": [
    "### 12. Create a nested dictionary to store marks of 3 students in 3 subjects (Math, Science, English).\n",
    "- Print each student’s name and average mark"
   ]
  },
  {
   "cell_type": "code",
   "execution_count": 12,
   "id": "1a04511e",
   "metadata": {},
   "outputs": [],
   "source": [
    "# Your code here"
   ]
  },
  {
   "cell_type": "markdown",
   "id": "1aec1635",
   "metadata": {},
   "source": [
    "## ✅ Submission Instructions\n",
    "\n",
    "- Complete all tasks.\n",
    "- Use comments where appropriate.\n",
    "\n",
    "Happy coding! 🚀"
   ]
  }
 ],
 "metadata": {
  "kernelspec": {
   "display_name": "Python 3",
   "language": "python",
   "name": "python3"
  },
  "language_info": {
   "codemirror_mode": {
    "name": "ipython",
    "version": 3
   },
   "file_extension": ".py",
   "mimetype": "text/x-python",
   "name": "python",
   "nbconvert_exporter": "python",
   "pygments_lexer": "ipython3",
   "version": "3.13.2"
  }
 },
 "nbformat": 4,
 "nbformat_minor": 5
}
