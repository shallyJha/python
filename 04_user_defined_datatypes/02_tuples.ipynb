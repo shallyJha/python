{
 "cells": [
  {
   "cell_type": "markdown",
   "id": "7797ff7d",
   "metadata": {},
   "source": [
    "# 🔗 Python Tuples – From Basics to Deep Dive"
   ]
  },
  {
   "cell_type": "markdown",
   "id": "2ef48159",
   "metadata": {},
   "source": [
    "## 📌 Introduction\n",
    "\n",
    "Tuples are ordered, immutable collections in Python. They are similar to lists, but **once created, their elements cannot be changed**.\n",
    "\n",
    "Use tuples when:\n",
    "- You want to store a **fixed collection** of items\n",
    "- You want to ensure **data integrity**\n",
    "- You need a **hashable type** (e.g., for dictionary keys)"
   ]
  },
  {
   "cell_type": "markdown",
   "id": "f15723cd",
   "metadata": {},
   "source": [
    "## 🧱 1. Creating Tuples"
   ]
  },
  {
   "cell_type": "code",
   "execution_count": 1,
   "id": "c0d1cec9",
   "metadata": {},
   "outputs": [],
   "source": [
    "# Empty tuple\n",
    "empty = ()\n",
    "\n",
    "# Tuple with elements\n",
    "point = (3, 4)\n",
    "\n",
    "# Mixed types\n",
    "mixed = (1, \"hello\", 3.14, True)\n",
    "\n",
    "# Nested tuple\n",
    "nested = (1, (2, 3), (4, 5))\n",
    "\n",
    "# Tuple without parentheses (comma makes it a tuple)\n",
    "no_parens = 1, 2, 3"
   ]
  },
  {
   "cell_type": "markdown",
   "id": "2ee2aa38",
   "metadata": {},
   "source": [
    "## 📏 2. Accessing Elements\n",
    "\n",
    "Like lists, tuples are indexed (0-based).\n"
   ]
  },
  {
   "cell_type": "code",
   "execution_count": 2,
   "id": "4b1c0090",
   "metadata": {},
   "outputs": [
    {
     "name": "stdout",
     "output_type": "stream",
     "text": [
      "red\n",
      "blue\n"
     ]
    }
   ],
   "source": [
    "colors = (\"red\", \"green\", \"blue\")\n",
    "\n",
    "print(colors[0])    # red\n",
    "print(colors[-1])   # blue"
   ]
  },
  {
   "cell_type": "markdown",
   "id": "c7b303d2",
   "metadata": {},
   "source": [
    "## ✂️ 3. Slicing Tuples"
   ]
  },
  {
   "cell_type": "code",
   "execution_count": 3,
   "id": "10fbc809",
   "metadata": {},
   "outputs": [
    {
     "name": "stdout",
     "output_type": "stream",
     "text": [
      "(20, 30, 40)\n",
      "(10, 20, 30)\n",
      "(50, 40, 30, 20, 10)\n"
     ]
    }
   ],
   "source": [
    "nums = (10, 20, 30, 40, 50)\n",
    "\n",
    "print(nums[1:4])     # (20, 30, 40)\n",
    "print(nums[:3])      # (10, 20, 30)\n",
    "print(nums[::-1])    # reverse tuple"
   ]
  },
  {
   "cell_type": "markdown",
   "id": "f0f60430",
   "metadata": {},
   "source": [
    "## 🚫 4. Immutability\n",
    "\n",
    "You **cannot change** elements of a tuple once created."
   ]
  },
  {
   "cell_type": "code",
   "execution_count": 4,
   "id": "0b95d54d",
   "metadata": {},
   "outputs": [],
   "source": [
    "t = (1, 2, 3)\n",
    "# t[1] = 5  ❌ This will raise an error"
   ]
  },
  {
   "cell_type": "markdown",
   "id": "da701010",
   "metadata": {},
   "source": [
    "However, if a tuple contains **mutable elements** (like a list), those can be changed:"
   ]
  },
  {
   "cell_type": "code",
   "execution_count": 5,
   "id": "f341ba39",
   "metadata": {},
   "outputs": [
    {
     "name": "stdout",
     "output_type": "stream",
     "text": [
      "(1, [100, 3])\n"
     ]
    }
   ],
   "source": [
    "t = (1, [2, 3])\n",
    "t[1][0] = 100\n",
    "print(t)  # (1, [100, 3])"
   ]
  },
  {
   "cell_type": "markdown",
   "id": "1d259cf7",
   "metadata": {},
   "source": [
    "## ➕ 5. Tuple Operations\n",
    "\n",
    "### ✅ Concatenation"
   ]
  },
  {
   "cell_type": "code",
   "execution_count": 6,
   "id": "df8b067c",
   "metadata": {},
   "outputs": [
    {
     "name": "stdout",
     "output_type": "stream",
     "text": [
      "(1, 2, 3, 4)\n"
     ]
    }
   ],
   "source": [
    "a = (1, 2)\n",
    "b = (3, 4)\n",
    "print(a + b)  # (1, 2, 3, 4)"
   ]
  },
  {
   "cell_type": "markdown",
   "id": "9cdfb539",
   "metadata": {},
   "source": [
    "### ✅ Repetition"
   ]
  },
  {
   "cell_type": "code",
   "execution_count": 7,
   "id": "37b29912",
   "metadata": {},
   "outputs": [
    {
     "name": "stdout",
     "output_type": "stream",
     "text": [
      "(1, 2, 1, 2, 1, 2)\n"
     ]
    }
   ],
   "source": [
    "print(a * 3)  # (1, 2, 1, 2, 1, 2)"
   ]
  },
  {
   "cell_type": "markdown",
   "id": "aff708d8",
   "metadata": {},
   "source": [
    "## 🔁 6. Looping Through Tuples"
   ]
  },
  {
   "cell_type": "code",
   "execution_count": 8,
   "id": "8aa3e1b5",
   "metadata": {},
   "outputs": [
    {
     "name": "stdout",
     "output_type": "stream",
     "text": [
      "cat\n",
      "dog\n",
      "rabbit\n"
     ]
    }
   ],
   "source": [
    "animals = (\"cat\", \"dog\", \"rabbit\")\n",
    "\n",
    "for animal in animals:\n",
    "    print(animal)"
   ]
  },
  {
   "cell_type": "markdown",
   "id": "585b28fe",
   "metadata": {},
   "source": [
    "## 🧰 7. Built-in Tuple Functions"
   ]
  },
  {
   "cell_type": "code",
   "execution_count": 9,
   "id": "c9cc7005",
   "metadata": {},
   "outputs": [
    {
     "name": "stdout",
     "output_type": "stream",
     "text": [
      "4\n",
      "2\n",
      "2\n"
     ]
    }
   ],
   "source": [
    "numbers = (4, 2, 8, 2)\n",
    "\n",
    "print(len(numbers))       # 4\n",
    "print(numbers.count(2))   # 2\n",
    "print(numbers.index(8))   # 2"
   ]
  },
  {
   "cell_type": "markdown",
   "id": "e0e8d1d2",
   "metadata": {},
   "source": [
    "## 📥 8. Tuple Packing & Unpacking\n",
    "\n",
    "### ✅ Packing"
   ]
  },
  {
   "cell_type": "code",
   "execution_count": 10,
   "id": "e2391826",
   "metadata": {},
   "outputs": [],
   "source": [
    "person = \"Alice\", 30, \"Engineer\""
   ]
  },
  {
   "cell_type": "markdown",
   "id": "52c8680d",
   "metadata": {},
   "source": [
    "### ✅ Unpacking"
   ]
  },
  {
   "cell_type": "code",
   "execution_count": 11,
   "id": "d999da0d",
   "metadata": {},
   "outputs": [
    {
     "name": "stdout",
     "output_type": "stream",
     "text": [
      "Alice\n",
      "30\n",
      "Engineer\n"
     ]
    }
   ],
   "source": [
    "name, age, profession = person\n",
    "print(name)\n",
    "print(age)\n",
    "print(profession)"
   ]
  },
  {
   "cell_type": "markdown",
   "id": "4eaf5ed6",
   "metadata": {},
   "source": [
    "You can also use the `*` operator for flexible unpacking:"
   ]
  },
  {
   "cell_type": "code",
   "execution_count": 12,
   "id": "8d4ee6ff",
   "metadata": {},
   "outputs": [
    {
     "name": "stdout",
     "output_type": "stream",
     "text": [
      "1\n",
      "[2, 3, 4]\n"
     ]
    }
   ],
   "source": [
    "a, *b = (1, 2, 3, 4)\n",
    "print(a)  # 1\n",
    "print(b)  # [2, 3, 4]"
   ]
  },
  {
   "cell_type": "markdown",
   "id": "a83e6b68",
   "metadata": {},
   "source": [
    "## 📦 9. Tuples as Dictionary Keys\n",
    "\n",
    "Since tuples are immutable, they can be used as keys in dictionaries."
   ]
  },
  {
   "cell_type": "code",
   "execution_count": 13,
   "id": "4c2ca8ac",
   "metadata": {},
   "outputs": [
    {
     "name": "stdout",
     "output_type": "stream",
     "text": [
      "Point A\n"
     ]
    }
   ],
   "source": [
    "coordinates = {}\n",
    "\n",
    "coordinates[(0, 0)] = \"Origin\"\n",
    "coordinates[(1, 2)] = \"Point A\"\n",
    "\n",
    "print(coordinates[(1, 2)])  # Point A"
   ]
  },
  {
   "cell_type": "markdown",
   "id": "703bae0b",
   "metadata": {},
   "source": [
    "## 🧪 10. Practice Exercises\n",
    "\n",
    "1. Create a tuple with 5 city names and print them using a loop."
   ]
  },
  {
   "cell_type": "code",
   "execution_count": 14,
   "id": "63847348",
   "metadata": {},
   "outputs": [],
   "source": [
    "# Write your code here"
   ]
  },
  {
   "cell_type": "markdown",
   "id": "16ddf91e",
   "metadata": {},
   "source": [
    "2. Write a function that accepts a tuple and returns a new tuple with only even numbers."
   ]
  },
  {
   "cell_type": "code",
   "execution_count": 15,
   "id": "62ded7d9",
   "metadata": {},
   "outputs": [],
   "source": [
    "# Write your code here"
   ]
  },
  {
   "cell_type": "markdown",
   "id": "471fd8af",
   "metadata": {},
   "source": [
    "3. Unpack a tuple with student data (name, grade, city) and print each item."
   ]
  },
  {
   "cell_type": "code",
   "execution_count": 16,
   "id": "d054481d",
   "metadata": {},
   "outputs": [],
   "source": [
    "# Write your code here"
   ]
  },
  {
   "cell_type": "markdown",
   "id": "b1371dd1",
   "metadata": {},
   "source": [
    "4. Use a tuple as a key in a dictionary and store a value."
   ]
  },
  {
   "cell_type": "code",
   "execution_count": 17,
   "id": "a82322a2",
   "metadata": {},
   "outputs": [],
   "source": [
    "# Write your code here"
   ]
  },
  {
   "cell_type": "markdown",
   "id": "ab872804",
   "metadata": {},
   "source": [
    "5. Create a tuple with mixed types and use slicing to print the middle section."
   ]
  },
  {
   "cell_type": "code",
   "execution_count": 18,
   "id": "afe6f0f9",
   "metadata": {},
   "outputs": [],
   "source": [
    "# Write your code here"
   ]
  },
  {
   "cell_type": "markdown",
   "id": "af2732f8",
   "metadata": {},
   "source": [
    "## ✅ Summary\n",
    "\n",
    "- Tuples are immutable, ordered collections.\n",
    "- Use them when you need to **protect data** from accidental changes.\n",
    "- You can access, loop, and slice them like lists.\n",
    "- Support for unpacking makes tuples great for structured data.\n",
    "- They can be used as dictionary keys because they are hashable."
   ]
  }
 ],
 "metadata": {
  "kernelspec": {
   "display_name": "Python 3",
   "language": "python",
   "name": "python3"
  },
  "language_info": {
   "codemirror_mode": {
    "name": "ipython",
    "version": 3
   },
   "file_extension": ".py",
   "mimetype": "text/x-python",
   "name": "python",
   "nbconvert_exporter": "python",
   "pygments_lexer": "ipython3",
   "version": "3.13.2"
  }
 },
 "nbformat": 4,
 "nbformat_minor": 5
}
