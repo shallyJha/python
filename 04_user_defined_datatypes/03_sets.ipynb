{
 "cells": [
  {
   "cell_type": "markdown",
   "id": "85204813",
   "metadata": {},
   "source": [
    "# 🧺 Python Sets – From Basics to Deep Dive\n",
    "\n",
    "## 📌 Introduction\n",
    "\n",
    "A **set** is an **unordered**, **mutable** collection of **unique** items. Sets are ideal for:\n",
    "\n",
    "- Removing duplicates\n",
    "- Performing mathematical set operations (union, intersection, etc.)\n",
    "- Fast membership testing"
   ]
  },
  {
   "cell_type": "markdown",
   "id": "04fc39e6",
   "metadata": {},
   "source": [
    "## 🧱 1. Creating Sets"
   ]
  },
  {
   "cell_type": "code",
   "execution_count": 1,
   "id": "f742032d",
   "metadata": {},
   "outputs": [],
   "source": [
    "# Using curly braces\n",
    "colors = {\"red\", \"green\", \"blue\"}\n",
    "\n",
    "# Using the set() constructor\n",
    "nums = set([1, 2, 3, 4])\n",
    "\n",
    "# Empty set (Note: {} creates a dictionary)\n",
    "empty = set()"
   ]
  },
  {
   "cell_type": "markdown",
   "id": "7310f5a1",
   "metadata": {},
   "source": [
    "> ⚠️ Sets cannot contain unhashable types like lists or other sets."
   ]
  },
  {
   "cell_type": "markdown",
   "id": "ff4da943",
   "metadata": {},
   "source": [
    "## 🧬 2. Set Characteristics\n",
    "\n",
    "- ✅ Unordered: No indexing or slicing\n",
    "- ✅ Unique: Automatically removes duplicates\n",
    "- ✅ Mutable: You can add/remove items"
   ]
  },
  {
   "cell_type": "code",
   "execution_count": 2,
   "id": "f04f2ab3",
   "metadata": {},
   "outputs": [
    {
     "name": "stdout",
     "output_type": "stream",
     "text": [
      "{1, 2, 3}\n"
     ]
    }
   ],
   "source": [
    "duplicates = {1, 2, 2, 3, 3}\n",
    "print(duplicates)  # {1, 2, 3}"
   ]
  },
  {
   "cell_type": "markdown",
   "id": "84a3f2af",
   "metadata": {},
   "source": [
    "## ➕ 3. Adding Elements\n",
    "\n",
    "### ✅ Using `add()`"
   ]
  },
  {
   "cell_type": "code",
   "execution_count": 3,
   "id": "ba530cca",
   "metadata": {},
   "outputs": [
    {
     "name": "stdout",
     "output_type": "stream",
     "text": [
      "{'red', 'blue', 'green'}\n"
     ]
    }
   ],
   "source": [
    "colors = {\"red\", \"green\"}\n",
    "colors.add(\"blue\")\n",
    "print(colors)"
   ]
  },
  {
   "cell_type": "markdown",
   "id": "f87c3be8",
   "metadata": {},
   "source": [
    "### ✅ Using `update()` – add multiple items"
   ]
  },
  {
   "cell_type": "code",
   "execution_count": 4,
   "id": "9dc09b49",
   "metadata": {},
   "outputs": [
    {
     "name": "stdout",
     "output_type": "stream",
     "text": [
      "{'red', 'yellow', 'orange', 'blue', 'green'}\n"
     ]
    }
   ],
   "source": [
    "colors.update([\"yellow\", \"orange\"])\n",
    "print(colors)"
   ]
  },
  {
   "cell_type": "markdown",
   "id": "8b6f4ac0",
   "metadata": {},
   "source": [
    "## ➖ 4. Removing Elements\n",
    "\n",
    "### ✅ Using `remove()` – raises error if item not found"
   ]
  },
  {
   "cell_type": "code",
   "execution_count": 5,
   "id": "3d0e669a",
   "metadata": {},
   "outputs": [],
   "source": [
    "colors.remove(\"red\")"
   ]
  },
  {
   "cell_type": "markdown",
   "id": "46fdd543",
   "metadata": {},
   "source": [
    "### ✅ Using `discard()` – safe version, no error"
   ]
  },
  {
   "cell_type": "code",
   "execution_count": 6,
   "id": "f90f9641",
   "metadata": {},
   "outputs": [],
   "source": [
    "colors.discard(\"purple\")  # no error"
   ]
  },
  {
   "cell_type": "markdown",
   "id": "ed34a94e",
   "metadata": {},
   "source": [
    "### ✅ Using `pop()` – removes a random item"
   ]
  },
  {
   "cell_type": "code",
   "execution_count": 7,
   "id": "33b51276",
   "metadata": {},
   "outputs": [
    {
     "data": {
      "text/plain": [
       "'yellow'"
      ]
     },
     "execution_count": 7,
     "metadata": {},
     "output_type": "execute_result"
    }
   ],
   "source": [
    "colors.pop()"
   ]
  },
  {
   "cell_type": "markdown",
   "id": "c6b737ac",
   "metadata": {},
   "source": [
    "### ✅ Using `clear()` – remove all items"
   ]
  },
  {
   "cell_type": "code",
   "execution_count": 8,
   "id": "711e4f56",
   "metadata": {},
   "outputs": [],
   "source": [
    "colors.clear()"
   ]
  },
  {
   "cell_type": "markdown",
   "id": "88b57cb0",
   "metadata": {},
   "source": [
    "## ⚙️ 5. Set Operations"
   ]
  },
  {
   "cell_type": "code",
   "execution_count": 9,
   "id": "3a9c51c7",
   "metadata": {},
   "outputs": [],
   "source": [
    "A = {1, 2, 3}\n",
    "B = {3, 4, 5}"
   ]
  },
  {
   "cell_type": "markdown",
   "id": "a31a615a",
   "metadata": {},
   "source": [
    "### ✅ Union (`|` or `union()`)"
   ]
  },
  {
   "cell_type": "code",
   "execution_count": 10,
   "id": "483810c6",
   "metadata": {},
   "outputs": [
    {
     "name": "stdout",
     "output_type": "stream",
     "text": [
      "{1, 2, 3, 4, 5}\n",
      "{1, 2, 3, 4, 5}\n"
     ]
    }
   ],
   "source": [
    "print(A | B)               # {1, 2, 3, 4, 5}\n",
    "print(A.union(B))"
   ]
  },
  {
   "cell_type": "markdown",
   "id": "71320310",
   "metadata": {},
   "source": [
    "### ✅ Intersection (`&` or `intersection()`)"
   ]
  },
  {
   "cell_type": "code",
   "execution_count": 11,
   "id": "96d6d909",
   "metadata": {},
   "outputs": [
    {
     "name": "stdout",
     "output_type": "stream",
     "text": [
      "{3}\n",
      "{3}\n"
     ]
    }
   ],
   "source": [
    "print(A & B)               # {3}\n",
    "print(A.intersection(B))"
   ]
  },
  {
   "cell_type": "markdown",
   "id": "5789a8a3",
   "metadata": {},
   "source": [
    "### ✅ Difference (`-` or `difference()`)"
   ]
  },
  {
   "cell_type": "code",
   "execution_count": 12,
   "id": "e1653352",
   "metadata": {},
   "outputs": [
    {
     "name": "stdout",
     "output_type": "stream",
     "text": [
      "{1, 2}\n",
      "{4, 5}\n"
     ]
    }
   ],
   "source": [
    "print(A - B)               # {1, 2}\n",
    "print(B - A)               # {4, 5}"
   ]
  },
  {
   "cell_type": "markdown",
   "id": "c426c725",
   "metadata": {},
   "source": [
    "### ✅ Symmetric Difference (`^` or `symmetric_difference()`)"
   ]
  },
  {
   "cell_type": "code",
   "execution_count": 13,
   "id": "07e14898",
   "metadata": {},
   "outputs": [
    {
     "name": "stdout",
     "output_type": "stream",
     "text": [
      "{1, 2, 4, 5}\n"
     ]
    }
   ],
   "source": [
    "print(A ^ B)               # {1, 2, 4, 5}"
   ]
  },
  {
   "cell_type": "markdown",
   "id": "28bcbbf3",
   "metadata": {},
   "source": [
    "## 🔍 6. Membership Testing"
   ]
  },
  {
   "cell_type": "code",
   "execution_count": 14,
   "id": "88818a19",
   "metadata": {},
   "outputs": [
    {
     "name": "stdout",
     "output_type": "stream",
     "text": [
      "True\n",
      "True\n"
     ]
    }
   ],
   "source": [
    "colors = {\"red\", \"green\", \"blue\"}\n",
    "\n",
    "print(\"red\" in colors)      # True\n",
    "print(\"yellow\" not in colors)  # True"
   ]
  },
  {
   "cell_type": "markdown",
   "id": "30823ddd",
   "metadata": {},
   "source": [
    "## 🔗 7. Set Relationships"
   ]
  },
  {
   "cell_type": "code",
   "execution_count": 15,
   "id": "10a32a14",
   "metadata": {},
   "outputs": [],
   "source": [
    "A = {1, 2, 3}\n",
    "B = {1, 2}\n",
    "C = {4, 5}"
   ]
  },
  {
   "cell_type": "markdown",
   "id": "a8eba5f7",
   "metadata": {},
   "source": [
    "### ✅ Subset"
   ]
  },
  {
   "cell_type": "code",
   "execution_count": 16,
   "id": "5270819f",
   "metadata": {},
   "outputs": [
    {
     "name": "stdout",
     "output_type": "stream",
     "text": [
      "True\n"
     ]
    }
   ],
   "source": [
    "print(B.issubset(A))  # True"
   ]
  },
  {
   "cell_type": "markdown",
   "id": "47a94558",
   "metadata": {},
   "source": [
    "### ✅ Superset"
   ]
  },
  {
   "cell_type": "code",
   "execution_count": 17,
   "id": "de287cef",
   "metadata": {},
   "outputs": [
    {
     "name": "stdout",
     "output_type": "stream",
     "text": [
      "True\n"
     ]
    }
   ],
   "source": [
    "print(A.issuperset(B))  # True"
   ]
  },
  {
   "cell_type": "markdown",
   "id": "44a60216",
   "metadata": {},
   "source": [
    "### ✅ Disjoint"
   ]
  },
  {
   "cell_type": "code",
   "execution_count": 18,
   "id": "a8e91b73",
   "metadata": {},
   "outputs": [
    {
     "name": "stdout",
     "output_type": "stream",
     "text": [
      "True\n"
     ]
    }
   ],
   "source": [
    "print(A.isdisjoint(C))  # True"
   ]
  },
  {
   "cell_type": "markdown",
   "id": "d46c374e",
   "metadata": {},
   "source": [
    "## 🧰 8. Useful Set Functions"
   ]
  },
  {
   "cell_type": "code",
   "execution_count": 19,
   "id": "1bd57907",
   "metadata": {},
   "outputs": [
    {
     "name": "stdout",
     "output_type": "stream",
     "text": [
      "3\n",
      "10\n",
      "30\n",
      "60\n"
     ]
    }
   ],
   "source": [
    "s = {10, 20, 30}\n",
    "\n",
    "print(len(s))            # Size of set\n",
    "print(min(s))            # Minimum value\n",
    "print(max(s))            # Maximum value\n",
    "print(sum(s))            # Sum of all items"
   ]
  },
  {
   "cell_type": "markdown",
   "id": "289c9c9a",
   "metadata": {},
   "source": [
    "## 🧪 9. Practice Exercises\n",
    "\n",
    "1. Create a set of numbers from 1 to 10 and remove all even numbers."
   ]
  },
  {
   "cell_type": "code",
   "execution_count": 20,
   "id": "1248451b",
   "metadata": {},
   "outputs": [],
   "source": [
    "# Write your code here"
   ]
  },
  {
   "cell_type": "markdown",
   "id": "98e334fb",
   "metadata": {},
   "source": [
    "2. Write a function that takes two sets and returns their symmetric difference."
   ]
  },
  {
   "cell_type": "code",
   "execution_count": 21,
   "id": "23035fd5",
   "metadata": {},
   "outputs": [],
   "source": [
    "# Write your code here"
   ]
  },
  {
   "cell_type": "markdown",
   "id": "6426f101",
   "metadata": {},
   "source": [
    "3. Ask the user for a sentence and print all unique characters."
   ]
  },
  {
   "cell_type": "code",
   "execution_count": 22,
   "id": "b3e34286",
   "metadata": {},
   "outputs": [],
   "source": [
    "# Write your code here"
   ]
  },
  {
   "cell_type": "markdown",
   "id": "91d13253",
   "metadata": {},
   "source": [
    "4. Create two sets of names and print who is in set A but not in set B."
   ]
  },
  {
   "cell_type": "code",
   "execution_count": 23,
   "id": "5b04db7f",
   "metadata": {},
   "outputs": [],
   "source": [
    "# Write your code here"
   ]
  },
  {
   "cell_type": "markdown",
   "id": "e13b247d",
   "metadata": {},
   "source": [
    "5. Use `issubset` to check if one set is fully contained in another."
   ]
  },
  {
   "cell_type": "code",
   "execution_count": 24,
   "id": "c96128bb",
   "metadata": {},
   "outputs": [],
   "source": [
    "# Write your code here"
   ]
  },
  {
   "cell_type": "markdown",
   "id": "bcf9d31e",
   "metadata": {},
   "source": [
    "## ✅ Summary\n",
    "\n",
    "- Sets are **unordered** and contain only **unique** items.\n",
    "- Use `add()`, `remove()`, `discard()`, and `clear()` to modify sets.\n",
    "- Use set operations like **union**, **intersection**, and **difference** for comparisons.\n",
    "- Sets are great for membership testing and removing duplicates."
   ]
  }
 ],
 "metadata": {
  "kernelspec": {
   "display_name": "Python 3",
   "language": "python",
   "name": "python3"
  },
  "language_info": {
   "codemirror_mode": {
    "name": "ipython",
    "version": 3
   },
   "file_extension": ".py",
   "mimetype": "text/x-python",
   "name": "python",
   "nbconvert_exporter": "python",
   "pygments_lexer": "ipython3",
   "version": "3.13.2"
  }
 },
 "nbformat": 4,
 "nbformat_minor": 5
}
