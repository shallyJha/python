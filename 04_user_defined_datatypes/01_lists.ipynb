{
 "cells": [
  {
   "cell_type": "markdown",
   "id": "1315741b",
   "metadata": {},
   "source": [
    "# 📚 Python Lists – From Basics to Advanced"
   ]
  },
  {
   "cell_type": "markdown",
   "id": "ccad0cf2",
   "metadata": {},
   "source": [
    "## 📌 Introduction\n",
    "\n",
    "Lists are one of the most used data structures in Python. They allow you to store a collection of items (of any type), and they are **ordered**, **mutable**, and **allow duplicates**."
   ]
  },
  {
   "cell_type": "markdown",
   "id": "32d1bd5b",
   "metadata": {},
   "source": [
    "## 🔤 1. Creating Lists"
   ]
  },
  {
   "cell_type": "code",
   "execution_count": 1,
   "id": "b7583fe8",
   "metadata": {},
   "outputs": [],
   "source": [
    "# Empty list\n",
    "empty_list = []\n",
    "\n",
    "# List of integers\n",
    "numbers = [1, 2, 3, 4, 5]\n",
    "\n",
    "# Mixed data types\n",
    "mixed = [1, \"hello\", 3.14, True]\n",
    "\n",
    "# Nested list\n",
    "nested = [1, [2, 3], [4, 5]]"
   ]
  },
  {
   "cell_type": "markdown",
   "id": "4167ce8f",
   "metadata": {},
   "source": [
    "## 🧾 2. Accessing Elements\n",
    "\n",
    "Lists are **zero-indexed** (the first item is at index 0)."
   ]
  },
  {
   "cell_type": "code",
   "execution_count": 2,
   "id": "6a85ae75",
   "metadata": {},
   "outputs": [
    {
     "name": "stdout",
     "output_type": "stream",
     "text": [
      "apple\n",
      "cherry\n"
     ]
    }
   ],
   "source": [
    "fruits = [\"apple\", \"banana\", \"cherry\"]\n",
    "\n",
    "print(fruits[0])   # apple\n",
    "print(fruits[-1])  # cherry (last element)"
   ]
  },
  {
   "cell_type": "markdown",
   "id": "ac94f228",
   "metadata": {},
   "source": [
    "## ✂️ 3. Slicing Lists"
   ]
  },
  {
   "cell_type": "code",
   "execution_count": 3,
   "id": "7f4a3d4c",
   "metadata": {},
   "outputs": [
    {
     "name": "stdout",
     "output_type": "stream",
     "text": [
      "[20, 30, 40]\n",
      "[10, 20, 30]\n",
      "[10, 30, 50]\n",
      "[50, 40, 30, 20, 10]\n"
     ]
    }
   ],
   "source": [
    "data = [10, 20, 30, 40, 50]\n",
    "\n",
    "print(data[1:4])    # [20, 30, 40]\n",
    "print(data[:3])     # [10, 20, 30]\n",
    "print(data[::2])    # [10, 30, 50] (step by 2)\n",
    "print(data[::-1])   # reverse the list"
   ]
  },
  {
   "cell_type": "markdown",
   "id": "7293af06",
   "metadata": {},
   "source": [
    "## 🧱 4. Modifying Lists\n",
    "\n",
    "Lists are **mutable**, meaning you can change their content."
   ]
  },
  {
   "cell_type": "code",
   "execution_count": 4,
   "id": "c945b55b",
   "metadata": {},
   "outputs": [
    {
     "name": "stdout",
     "output_type": "stream",
     "text": [
      "[1, 20, 3]\n"
     ]
    }
   ],
   "source": [
    "nums = [1, 2, 3]\n",
    "nums[1] = 20\n",
    "print(nums)  # [1, 20, 3]"
   ]
  },
  {
   "cell_type": "markdown",
   "id": "34912552",
   "metadata": {},
   "source": [
    "## ➕ 5. Adding Elements\n",
    "\n",
    "### ✅ Using `append()` – adds one item at the end"
   ]
  },
  {
   "cell_type": "code",
   "execution_count": 5,
   "id": "f4e607c7",
   "metadata": {},
   "outputs": [
    {
     "name": "stdout",
     "output_type": "stream",
     "text": [
      "[1, 2, 3]\n"
     ]
    }
   ],
   "source": [
    "nums = [1, 2]\n",
    "nums.append(3)\n",
    "print(nums)"
   ]
  },
  {
   "cell_type": "markdown",
   "id": "734c8478",
   "metadata": {},
   "source": [
    "### ✅ Using `insert()` – adds item at a specific position"
   ]
  },
  {
   "cell_type": "code",
   "execution_count": 6,
   "id": "8a2ead59",
   "metadata": {},
   "outputs": [
    {
     "name": "stdout",
     "output_type": "stream",
     "text": [
      "[1, 100, 2, 3]\n"
     ]
    }
   ],
   "source": [
    "nums.insert(1, 100)  # insert 100 at index 1\n",
    "print(nums)"
   ]
  },
  {
   "cell_type": "markdown",
   "id": "f9378145",
   "metadata": {},
   "source": [
    "### ✅ Using `extend()` – adds multiple items from another list"
   ]
  },
  {
   "cell_type": "code",
   "execution_count": 7,
   "id": "c0361387",
   "metadata": {},
   "outputs": [
    {
     "name": "stdout",
     "output_type": "stream",
     "text": [
      "[1, 100, 2, 3, 200, 300]\n"
     ]
    }
   ],
   "source": [
    "nums.extend([200, 300])\n",
    "print(nums)"
   ]
  },
  {
   "cell_type": "markdown",
   "id": "dce262ff",
   "metadata": {},
   "source": [
    "## ➖ 6. Removing Elements"
   ]
  },
  {
   "cell_type": "markdown",
   "id": "33544db4",
   "metadata": {},
   "source": [
    "### ✅ Using `remove()` – removes the first occurrence"
   ]
  },
  {
   "cell_type": "code",
   "execution_count": 8,
   "id": "8bba8ea7",
   "metadata": {},
   "outputs": [
    {
     "name": "stdout",
     "output_type": "stream",
     "text": [
      "['blue', 'red']\n"
     ]
    }
   ],
   "source": [
    "colors = [\"red\", \"blue\", \"red\"]\n",
    "colors.remove(\"red\")\n",
    "print(colors)"
   ]
  },
  {
   "cell_type": "markdown",
   "id": "f8d2c92e",
   "metadata": {},
   "source": [
    "### ✅ Using `pop()` – removes by index and returns item"
   ]
  },
  {
   "cell_type": "code",
   "execution_count": 9,
   "id": "b1de0c4d",
   "metadata": {},
   "outputs": [
    {
     "name": "stdout",
     "output_type": "stream",
     "text": [
      "blue\n"
     ]
    }
   ],
   "source": [
    "item = colors.pop(0)\n",
    "print(item)"
   ]
  },
  {
   "cell_type": "markdown",
   "id": "3dbec659",
   "metadata": {},
   "source": [
    "### ✅ Using `del` – delete by index or slice"
   ]
  },
  {
   "cell_type": "code",
   "execution_count": 10,
   "id": "6bc9290f",
   "metadata": {},
   "outputs": [],
   "source": [
    "del colors[0]"
   ]
  },
  {
   "cell_type": "markdown",
   "id": "78844d4b",
   "metadata": {},
   "source": [
    "### ✅ Using `clear()` – removes all elements"
   ]
  },
  {
   "cell_type": "code",
   "execution_count": 11,
   "id": "3c806a8b",
   "metadata": {},
   "outputs": [
    {
     "name": "stdout",
     "output_type": "stream",
     "text": [
      "[]\n"
     ]
    }
   ],
   "source": [
    "colors.clear()\n",
    "print(colors)"
   ]
  },
  {
   "cell_type": "markdown",
   "id": "73b80bc4",
   "metadata": {},
   "source": [
    "## 🔁 7. Looping Through Lists"
   ]
  },
  {
   "cell_type": "code",
   "execution_count": 12,
   "id": "c9d59e19",
   "metadata": {},
   "outputs": [
    {
     "name": "stdout",
     "output_type": "stream",
     "text": [
      "Alice\n",
      "Bob\n",
      "Charlie\n",
      "0 Alice\n",
      "1 Bob\n",
      "2 Charlie\n"
     ]
    }
   ],
   "source": [
    "names = [\"Alice\", \"Bob\", \"Charlie\"]\n",
    "\n",
    "# Simple loop\n",
    "for name in names:\n",
    "    print(name)\n",
    "\n",
    "# With index\n",
    "for i in range(len(names)):\n",
    "    print(i, names[i])"
   ]
  },
  {
   "cell_type": "markdown",
   "id": "c87a5ebc",
   "metadata": {},
   "source": [
    "## 🧰 8. Common List Methods\n",
    "\n",
    "| Method           | Description                        |\n",
    "|------------------|------------------------------------|\n",
    "| `append(x)`      | Add item to end                    |\n",
    "| `insert(i, x)`   | Insert at index                    |\n",
    "| `remove(x)`      | Remove first occurrence of item    |\n",
    "| `pop([i])`       | Remove and return item at index    |\n",
    "| `clear()`        | Remove all items                   |\n",
    "| `index(x)`       | Return index of first occurrence   |\n",
    "| `count(x)`       | Count how many times item appears  |\n",
    "| `reverse()`      | Reverse the list in place          |\n",
    "| `sort()`         | Sort the list                      |\n",
    "| `copy()`         | Create a shallow copy              |"
   ]
  },
  {
   "cell_type": "code",
   "execution_count": 13,
   "id": "6d9abfe2",
   "metadata": {},
   "outputs": [
    {
     "name": "stdout",
     "output_type": "stream",
     "text": [
      "[20, 40, 50, 80]\n"
     ]
    }
   ],
   "source": [
    "scores = [50, 20, 80, 40]\n",
    "scores.sort()\n",
    "print(scores)"
   ]
  },
  {
   "cell_type": "markdown",
   "id": "30a5b855",
   "metadata": {},
   "source": [
    "## 📌 9. List Comprehensions\n",
    "\n",
    "A concise way to create lists using a single line of code."
   ]
  },
  {
   "cell_type": "code",
   "execution_count": 14,
   "id": "d55d4cdc",
   "metadata": {},
   "outputs": [
    {
     "name": "stdout",
     "output_type": "stream",
     "text": [
      "[1, 4, 9, 16, 25]\n",
      "[0, 2, 4, 6, 8]\n"
     ]
    }
   ],
   "source": [
    "# Create a list of squares\n",
    "squares = [x**2 for x in range(1, 6)]\n",
    "print(squares)\n",
    "\n",
    "# Create a list of even numbers\n",
    "evens = [x for x in range(10) if x % 2 == 0]\n",
    "print(evens)"
   ]
  },
  {
   "cell_type": "markdown",
   "id": "2d31f70a",
   "metadata": {},
   "source": [
    "## 🧬 10. Nested Lists\n",
    "\n",
    "Lists within lists — useful for grids, matrices, etc."
   ]
  },
  {
   "cell_type": "code",
   "execution_count": 15,
   "id": "b45ca2fc",
   "metadata": {},
   "outputs": [
    {
     "name": "stdout",
     "output_type": "stream",
     "text": [
      "2\n"
     ]
    }
   ],
   "source": [
    "matrix = [\n",
    "    [1, 2, 3],\n",
    "    [4, 5, 6]\n",
    "]\n",
    "\n",
    "# Access row 1, column 2\n",
    "print(matrix[0][1])  # 2"
   ]
  },
  {
   "cell_type": "markdown",
   "id": "7d33d98a",
   "metadata": {},
   "source": [
    "### Looping through a matrix:"
   ]
  },
  {
   "cell_type": "code",
   "execution_count": 16,
   "id": "0ea07ee7",
   "metadata": {},
   "outputs": [
    {
     "name": "stdout",
     "output_type": "stream",
     "text": [
      "1 2 3 \n",
      "4 5 6 \n"
     ]
    }
   ],
   "source": [
    "for row in matrix:\n",
    "    for item in row:\n",
    "        print(item, end=\" \")\n",
    "    print()"
   ]
  },
  {
   "cell_type": "markdown",
   "id": "58fdf9d3",
   "metadata": {},
   "source": [
    "## 🧪 11. Practice Exercises"
   ]
  },
  {
   "cell_type": "markdown",
   "id": "479d9059",
   "metadata": {},
   "source": [
    "1. Create a list of 5 fruits and print the first and last fruit."
   ]
  },
  {
   "cell_type": "code",
   "execution_count": 17,
   "id": "f4fac6e3",
   "metadata": {},
   "outputs": [],
   "source": [
    "# Write your code here"
   ]
  },
  {
   "cell_type": "markdown",
   "id": "64238223",
   "metadata": {},
   "source": [
    "2. Write a loop to print each item in a list **in reverse order**."
   ]
  },
  {
   "cell_type": "code",
   "execution_count": 18,
   "id": "24ecc059",
   "metadata": {},
   "outputs": [],
   "source": [
    "# Write your code here"
   ]
  },
  {
   "cell_type": "markdown",
   "id": "1490600c",
   "metadata": {},
   "source": [
    "3. Use list comprehension to create a list of all multiples of 3 from 1 to 30."
   ]
  },
  {
   "cell_type": "code",
   "execution_count": 19,
   "id": "44e019fd",
   "metadata": {},
   "outputs": [],
   "source": [
    "# Write your code here"
   ]
  },
  {
   "cell_type": "markdown",
   "id": "e5581036",
   "metadata": {},
   "source": [
    "4. Take input from user and add it to a list until they enter \"done\". Then print the list."
   ]
  },
  {
   "cell_type": "code",
   "execution_count": 20,
   "id": "02b96de9",
   "metadata": {},
   "outputs": [],
   "source": [
    "# Write your code here"
   ]
  },
  {
   "cell_type": "markdown",
   "id": "b90ba072",
   "metadata": {},
   "source": [
    "5. Sort a list of names alphabetically and then reverse it."
   ]
  },
  {
   "cell_type": "code",
   "execution_count": 21,
   "id": "924f69da",
   "metadata": {},
   "outputs": [],
   "source": [
    "# Write your code here"
   ]
  },
  {
   "cell_type": "markdown",
   "id": "ce501f5e",
   "metadata": {},
   "source": [
    "## ✅ Summary\n",
    "\n",
    "- Lists store ordered, mutable sequences.\n",
    "- You can access, modify, and delete elements easily.\n",
    "- Master `append()`, `insert()`, `remove()`, `sort()`, and `pop()`.\n",
    "- List comprehensions are powerful and concise.\n",
    "- Nested lists allow for 2D structures like matrices."
   ]
  }
 ],
 "metadata": {
  "kernelspec": {
   "display_name": "Python 3",
   "language": "python",
   "name": "python3"
  },
  "language_info": {
   "codemirror_mode": {
    "name": "ipython",
    "version": 3
   },
   "file_extension": ".py",
   "mimetype": "text/x-python",
   "name": "python",
   "nbconvert_exporter": "python",
   "pygments_lexer": "ipython3",
   "version": "3.13.2"
  }
 },
 "nbformat": 4,
 "nbformat_minor": 5
}
