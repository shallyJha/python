{
 "cells": [
  {
   "cell_type": "markdown",
   "id": "8755074d",
   "metadata": {},
   "source": [
    "# 📘 Topic: Using VSCode or IDEs"
   ]
  },
  {
   "cell_type": "markdown",
   "id": "8d7ce5c2",
   "metadata": {},
   "source": [
    "## ✨ Objectives\n",
    "- Set up VSCode for Python\n",
    "- Understand IDE basics\n",
    "- Run your first script"
   ]
  },
  {
   "cell_type": "markdown",
   "id": "7fdd6876",
   "metadata": {},
   "source": [
    "## 🧠 Key Concepts\n",
    "VSCode is a lightweight, powerful editor with Python support."
   ]
  },
  {
   "cell_type": "markdown",
   "id": "f44aca37",
   "metadata": {},
   "source": [
    "### Setup Guide:\n",
    "1. Install [VSCode](https://code.visualstudio.com)\n",
    "2. Install Python extension (from Extensions tab)\n",
    "3. Use terminal or file explorer to run `.py` files"
   ]
  },
  {
   "cell_type": "code",
   "execution_count": 1,
   "id": "99c80c6e",
   "metadata": {},
   "outputs": [
    {
     "name": "stdout",
     "output_type": "stream",
     "text": [
      "Hello from VSCode!\n"
     ]
    }
   ],
   "source": [
    "# Example Python script\n",
    "print(\"Hello from VSCode!\")"
   ]
  },
  {
   "cell_type": "markdown",
   "id": "0c24fedf",
   "metadata": {},
   "source": [
    "## 🧪 Try it Yourself\n",
    "> Create a new file in VSCode, name it `test.py`, and write a print statement."
   ]
  },
  {
   "cell_type": "markdown",
   "id": "ac2e5b21",
   "metadata": {},
   "source": [
    "## 📦 Summary\n",
    "VSCode boosts productivity and is highly customizable."
   ]
  }
 ],
 "metadata": {
  "kernelspec": {
   "display_name": "Python 3",
   "language": "python",
   "name": "python3"
  },
  "language_info": {
   "codemirror_mode": {
    "name": "ipython",
    "version": 3
   },
   "file_extension": ".py",
   "mimetype": "text/x-python",
   "name": "python",
   "nbconvert_exporter": "python",
   "pygments_lexer": "ipython3",
   "version": "3.13.2"
  }
 },
 "nbformat": 4,
 "nbformat_minor": 5
}
