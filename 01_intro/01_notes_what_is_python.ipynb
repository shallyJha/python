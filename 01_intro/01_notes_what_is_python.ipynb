{
 "cells": [
  {
   "cell_type": "markdown",
   "id": "f578d987",
   "metadata": {},
   "source": [
    "# 📘 Topic: What is Python? Installing Python"
   ]
  },
  {
   "cell_type": "markdown",
   "id": "8ab16422",
   "metadata": {},
   "source": [
    "## ✨ Objectives\n",
    "- Understand what Python is\n",
    "- Learn where Python is used\n",
    "- Install Python and set up the environment"
   ]
  },
  {
   "cell_type": "markdown",
   "id": "e79ab2de",
   "metadata": {},
   "source": [
    "## 🧠 Key Concepts\n",
    "Python is a high-level, interpreted programming language known for its simplicity and readability."
   ]
  },
  {
   "cell_type": "markdown",
   "id": "05dda485",
   "metadata": {},
   "source": [
    "### Why Python?\n",
    "- Easy to learn\n",
    "- Versatile (Web, Data, AI, Scripting)\n",
    "- Huge community and libraries"
   ]
  },
  {
   "cell_type": "markdown",
   "id": "3f6da15f",
   "metadata": {},
   "source": [
    "### Installing Python:\n",
    "1. Go to https://python.org\n",
    "2. Download the latest version\n",
    "3. Use the installer (check 'Add to PATH')"
   ]
  },
  {
   "cell_type": "code",
   "execution_count": null,
   "id": "6adbf10c",
   "metadata": {},
   "outputs": [],
   "source": [
    "!python --version  # check installed version"
   ]
  },
  {
   "cell_type": "markdown",
   "id": "76fa73fd",
   "metadata": {},
   "source": [
    "## 🧪 Try it Yourself\n",
    "> Open your terminal or command prompt and type `python` to launch the Python interpreter."
   ]
  },
  {
   "cell_type": "markdown",
   "id": "a306e865",
   "metadata": {},
   "source": [
    "## 📦 Summary\n",
    "Python is beginner-friendly, powerful, and essential for many tech fields."
   ]
  }
 ],
 "metadata": {},
 "nbformat": 4,
 "nbformat_minor": 5
}