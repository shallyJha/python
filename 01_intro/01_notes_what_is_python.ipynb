{
 "cells": [
  {
   "cell_type": "markdown",
   "id": "f578d987",
   "metadata": {},
   "source": [
    "# 📘 Topic: What is Python? Installing Python"
   ]
  },
  {
   "cell_type": "markdown",
   "id": "8ab16422",
   "metadata": {},
   "source": [
    "## ✨ Objectives\n",
    "- Understand what Python is\n",
    "- Learn where Python is used\n",
    "- Install Python and set up the environment"
   ]
  },
  {
   "cell_type": "markdown",
   "id": "e79ab2de",
   "metadata": {},
   "source": [
    "## 🧠 Key Concepts\n",
    "Python is a high-level, interpreted programming language known for its simplicity and readability."
   ]
  },
  {
   "cell_type": "markdown",
   "id": "05dda485",
   "metadata": {},
   "source": [
    "### Why Python?\n",
    "- Easy to learn\n",
    "- Versatile (Web, Data, AI, Scripting)\n",
    "- Huge community and libraries"
   ]
  },
  {
   "cell_type": "markdown",
   "id": "3f6da15f",
   "metadata": {},
   "source": [
    "### Installing Python:\n",
    "1. Go to https://python.org\n",
    "2. Download the latest version\n",
    "3. Use the installer (check 'Add to PATH')"
   ]
  },
  {
   "cell_type": "code",
   "execution_count": 1,
   "id": "6adbf10c",
   "metadata": {},
   "outputs": [
    {
     "name": "stdout",
     "output_type": "stream",
     "text": [
      "Python 3.13.2\n"
     ]
    }
   ],
   "source": [
    "!python --version  # check installed version"
   ]
  },
  {
   "cell_type": "markdown",
   "id": "76fa73fd",
   "metadata": {},
   "source": [
    "## 🧪 Try it Yourself\n",
    "> Open your terminal or command prompt and type `python` to launch the Python interpreter."
   ]
  },
  {
   "cell_type": "markdown",
   "id": "a306e865",
   "metadata": {},
   "source": [
    "## 📦 Summary\n",
    "Python is beginner-friendly, powerful, and essential for many tech fields."
   ]
  }
 ],
 "metadata": {
  "kernelspec": {
   "display_name": "Python 3",
   "language": "python",
   "name": "python3"
  },
  "language_info": {
   "codemirror_mode": {
    "name": "ipython",
    "version": 3
   },
   "file_extension": ".py",
   "mimetype": "text/x-python",
   "name": "python",
   "nbconvert_exporter": "python",
   "pygments_lexer": "ipython3",
   "version": "3.13.2"
  }
 },
 "nbformat": 4,
 "nbformat_minor": 5
}
