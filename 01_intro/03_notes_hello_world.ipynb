{
 "cells": [
  {
   "cell_type": "markdown",
   "id": "7cee331e",
   "metadata": {},
   "source": [
    "# 📘 Topic: Hello World Program"
   ]
  },
  {
   "cell_type": "markdown",
   "id": "ec852be2",
   "metadata": {},
   "source": [
    "## ✨ Objectives\n",
    "- Write your first Python program\n",
    "- Understand basic syntax"
   ]
  },
  {
   "cell_type": "code",
   "execution_count": null,
   "id": "7ed5212b",
   "metadata": {},
   "outputs": [],
   "source": [
    "print(\"Hello, world!\")"
   ]
  },
  {
   "cell_type": "markdown",
   "id": "88541f89",
   "metadata": {},
   "source": [
    "## 🧠 Key Concepts\n",
    "- The `print()` function outputs text\n",
    "- Strings are written in quotes"
   ]
  },
  {
   "cell_type": "code",
   "execution_count": null,
   "id": "180950f6",
   "metadata": {},
   "outputs": [],
   "source": [
    "print('Welcome to Python!')"
   ]
  },
  {
   "cell_type": "markdown",
   "id": "31683cf9",
   "metadata": {},
   "source": [
    "## 🧪 Try it Yourself\n",
    "> Print your name and a short greeting."
   ]
  },
  {
   "cell_type": "markdown",
   "id": "643979c4",
   "metadata": {},
   "source": [
    "## 📦 Summary\n",
    "You've just written your first Python code!"
   ]
  }
 ],
 "metadata": {},
 "nbformat": 4,
 "nbformat_minor": 5
}