{
 "cells": [
  {
   "cell_type": "markdown",
   "id": "7cee331e",
   "metadata": {},
   "source": [
    "# 📘 Topic: Hello World Program"
   ]
  },
  {
   "cell_type": "markdown",
   "id": "ec852be2",
   "metadata": {},
   "source": [
    "## ✨ Objectives\n",
    "- Write your first Python program\n",
    "- Understand basic syntax"
   ]
  },
  {
   "cell_type": "code",
   "execution_count": 1,
   "id": "7ed5212b",
   "metadata": {},
   "outputs": [
    {
     "name": "stdout",
     "output_type": "stream",
     "text": [
      "Hello, world!\n"
     ]
    }
   ],
   "source": [
    "print(\"Hello, world!\")"
   ]
  },
  {
   "cell_type": "markdown",
   "id": "88541f89",
   "metadata": {},
   "source": [
    "## 🧠 Key Concepts\n",
    "- The `print()` function outputs text\n",
    "- Strings are written in quotes"
   ]
  },
  {
   "cell_type": "code",
   "execution_count": 2,
   "id": "180950f6",
   "metadata": {},
   "outputs": [
    {
     "name": "stdout",
     "output_type": "stream",
     "text": [
      "Welcome to Python!\n"
     ]
    }
   ],
   "source": [
    "print('Welcome to Python!')"
   ]
  },
  {
   "cell_type": "markdown",
   "id": "31683cf9",
   "metadata": {},
   "source": [
    "## 🧪 Try it Yourself\n",
    "> Print your name and a short greeting."
   ]
  },
  {
   "cell_type": "code",
   "execution_count": 3,
   "id": "af51fd56",
   "metadata": {},
   "outputs": [],
   "source": [
    "# Write your code here"
   ]
  },
  {
   "cell_type": "markdown",
   "id": "643979c4",
   "metadata": {},
   "source": [
    "## 📦 Summary\n",
    "You've just written your first Python code!"
   ]
  }
 ],
 "metadata": {
  "kernelspec": {
   "display_name": "Python 3",
   "language": "python",
   "name": "python3"
  },
  "language_info": {
   "codemirror_mode": {
    "name": "ipython",
    "version": 3
   },
   "file_extension": ".py",
   "mimetype": "text/x-python",
   "name": "python",
   "nbconvert_exporter": "python",
   "pygments_lexer": "ipython3",
   "version": "3.13.2"
  }
 },
 "nbformat": 4,
 "nbformat_minor": 5
}
