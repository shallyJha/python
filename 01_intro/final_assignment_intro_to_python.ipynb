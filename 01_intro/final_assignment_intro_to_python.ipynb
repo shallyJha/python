{
 "cells": [
  {
   "cell_type": "markdown",
   "id": "090a55fb",
   "metadata": {},
   "source": [
    "# 🧪 Final Assignment: Intro to Python"
   ]
  },
  {
   "cell_type": "markdown",
   "id": "f694af8b",
   "metadata": {},
   "source": [
    "## Instructions:\n",
    "Complete the following tasks and run each cell to verify your solution."
   ]
  },
  {
   "cell_type": "markdown",
   "id": "c871553f",
   "metadata": {},
   "source": [
    "### 1. Print your name and age."
   ]
  },
  {
   "cell_type": "code",
   "execution_count": 1,
   "id": "531d5b0a",
   "metadata": {},
   "outputs": [
    {
     "name": "stdout",
     "output_type": "stream",
     "text": [
      "My name is shally jha\n",
      "My age is 21\n"
     ]
    }
   ],
   "source": [
    "# Write your code here\n",
    "print(\"My name is shally jha\")\n",
    "print(\"My age is 21\")"
   ]
  },
  {
   "cell_type": "markdown",
   "id": "f8375c99",
   "metadata": {},
   "source": [
    "### 2. Ask the user for their favorite color and print a custom message."
   ]
  },
  {
   "cell_type": "code",
   "execution_count": 3,
   "id": "7398c768",
   "metadata": {},
   "outputs": [
    {
     "name": "stdout",
     "output_type": "stream",
     "text": [
      "My favourite color is black\n"
     ]
    }
   ],
   "source": [
    "# Write your code here\n",
    "color= input(\"Write your favourite color.\")\n",
    "print(\"My favourite color is\",color)"
   ]
  },
  {
   "cell_type": "markdown",
   "id": "01e9f67f",
   "metadata": {},
   "source": [
    "### 3. Check if a number is even or odd using if-else."
   ]
  },
  {
   "cell_type": "code",
   "execution_count": 5,
   "id": "fd50cd3c",
   "metadata": {},
   "outputs": [
    {
     "name": "stdout",
     "output_type": "stream",
     "text": [
      "The number is even\n"
     ]
    }
   ],
   "source": [
    "# Write your code here\n",
    "num= int(input(\"Write a number.\"))\n",
    "if num%2==0:\n",
    "    print(\"The number is even\")\n",
    "else:\n",
    "    print(\"The number is odd\")"
   ]
  },
  {
   "cell_type": "markdown",
   "id": "5c27132c",
   "metadata": {},
   "source": [
    "### 4. Write a loop that prints numbers from 1 to 5."
   ]
  },
  {
   "cell_type": "code",
   "execution_count": 7,
   "id": "04674c1a",
   "metadata": {},
   "outputs": [
    {
     "name": "stdout",
     "output_type": "stream",
     "text": [
      "1\n",
      "2\n",
      "3\n",
      "4\n",
      "5\n"
     ]
    }
   ],
   "source": [
    "# Write your code here\n",
    "for i in range(1,6):\n",
    "    print(i)\n"
   ]
  },
  {
   "cell_type": "markdown",
   "id": "6674451c",
   "metadata": {},
   "source": [
    "### 5. Bonus: Combine input, loop, and condition in a simple program."
   ]
  },
  {
   "cell_type": "code",
   "execution_count": 13,
   "id": "58b39e40",
   "metadata": {},
   "outputs": [
    {
     "name": "stdout",
     "output_type": "stream",
     "text": [
      "1\n",
      "2\n",
      "3\n",
      "4\n",
      "5\n",
      "6\n",
      "Odd\n"
     ]
    }
   ],
   "source": [
    "# Write your code here\n",
    "num = int(input(\"Write a number\"))\n",
    "for i in range(1,num):\n",
    "    print(i)\n",
    "if num%2==0:\n",
    "    print(\"Even\")\n",
    "else:\n",
    "    print(\"Odd\")\n"
   ]
  },
  {
   "cell_type": "code",
   "execution_count": null,
   "id": "2b93c76e",
   "metadata": {},
   "outputs": [],
   "source": []
  }
 ],
 "metadata": {
  "kernelspec": {
   "display_name": "venv",
   "language": "python",
   "name": "python3"
  },
  "language_info": {
   "codemirror_mode": {
    "name": "ipython",
    "version": 3
   },
   "file_extension": ".py",
   "mimetype": "text/x-python",
   "name": "python",
   "nbconvert_exporter": "python",
   "pygments_lexer": "ipython3",
   "version": "3.13.2"
  }
 },
 "nbformat": 4,
 "nbformat_minor": 5
}
