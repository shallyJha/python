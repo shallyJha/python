{
 "cells": [
  {
   "cell_type": "markdown",
   "id": "090a55fb",
   "metadata": {},
   "source": [
    "# 🧪 Final Assignment: Intro to Python"
   ]
  },
  {
   "cell_type": "markdown",
   "id": "f694af8b",
   "metadata": {},
   "source": [
    "## Instructions:\n",
    "Complete the following tasks and run each cell to verify your solution."
   ]
  },
  {
   "cell_type": "markdown",
   "id": "c871553f",
   "metadata": {},
   "source": [
    "### 1. Print your name and age."
   ]
  },
  {
   "cell_type": "code",
   "execution_count": null,
   "id": "531d5b0a",
   "metadata": {},
   "outputs": [],
   "source": [
    "# Write your code here"
   ]
  },
  {
   "cell_type": "markdown",
   "id": "f8375c99",
   "metadata": {},
   "source": [
    "### 2. Ask the user for their favorite color and print a custom message."
   ]
  },
  {
   "cell_type": "code",
   "execution_count": null,
   "id": "7398c768",
   "metadata": {},
   "outputs": [],
   "source": [
    "# Write your code here"
   ]
  },
  {
   "cell_type": "markdown",
   "id": "01e9f67f",
   "metadata": {},
   "source": [
    "### 3. Check if a number is even or odd using if-else."
   ]
  },
  {
   "cell_type": "code",
   "execution_count": null,
   "id": "fd50cd3c",
   "metadata": {},
   "outputs": [],
   "source": [
    "# Write your code here"
   ]
  },
  {
   "cell_type": "markdown",
   "id": "5c27132c",
   "metadata": {},
   "source": [
    "### 4. Write a loop that prints numbers from 1 to 5."
   ]
  },
  {
   "cell_type": "code",
   "execution_count": null,
   "id": "04674c1a",
   "metadata": {},
   "outputs": [],
   "source": [
    "# Write your code here"
   ]
  },
  {
   "cell_type": "markdown",
   "id": "6674451c",
   "metadata": {},
   "source": [
    "### 5. Bonus: Combine input, loop, and condition in a simple program."
   ]
  },
  {
   "cell_type": "code",
   "execution_count": null,
   "id": "58b39e40",
   "metadata": {},
   "outputs": [],
   "source": [
    "# Write your code here"
   ]
  }
 ],
 "metadata": {
  "kernelspec": {
   "display_name": "Python 3",
   "language": "python",
   "name": "python3"
  },
  "language_info": {
   "codemirror_mode": {
    "name": "ipython",
    "version": 3
   },
   "file_extension": ".py",
   "mimetype": "text/x-python",
   "name": "python",
   "nbconvert_exporter": "python",
   "pygments_lexer": "ipython3",
   "version": "3.13.2"
  }
 },
 "nbformat": 4,
 "nbformat_minor": 5
}
