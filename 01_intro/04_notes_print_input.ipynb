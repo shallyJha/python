{
 "cells": [
  {
   "cell_type": "markdown",
   "id": "efedd1b2",
   "metadata": {},
   "source": [
    "# 📘 Topic: Using print() and input()"
   ]
  },
  {
   "cell_type": "markdown",
   "id": "53380263",
   "metadata": {},
   "source": [
    "## ✨ Objectives\n",
    "- Output data using `print()`\n",
    "- Take user input with `input()`"
   ]
  },
  {
   "cell_type": "code",
   "execution_count": 1,
   "id": "b326415c",
   "metadata": {},
   "outputs": [
    {
     "name": "stdout",
     "output_type": "stream",
     "text": [
      "Hello, Anonymus\n"
     ]
    }
   ],
   "source": [
    "name = input(\"What is your name? \")\n",
    "print(\"Hello,\", name)"
   ]
  },
  {
   "cell_type": "markdown",
   "id": "6171a879",
   "metadata": {},
   "source": [
    "## 🧠 Key Concepts\n",
    "- `input()` always returns a string\n",
    "- You can store and manipulate input"
   ]
  },
  {
   "cell_type": "code",
   "execution_count": 2,
   "id": "621db8e2",
   "metadata": {},
   "outputs": [
    {
     "name": "stdout",
     "output_type": "stream",
     "text": [
      "You are 22 years old\n"
     ]
    }
   ],
   "source": [
    "age = input(\"Enter your age: \")\n",
    "print(\"You are\", age, \"years old\")"
   ]
  },
  {
   "cell_type": "markdown",
   "id": "9e537b25",
   "metadata": {},
   "source": [
    "## 🧪 Try it Yourself\n",
    "> Ask the user for their favorite food and print a sentence using it."
   ]
  },
  {
   "cell_type": "code",
   "execution_count": 3,
   "id": "3dff2fec",
   "metadata": {},
   "outputs": [],
   "source": [
    "# Write your code here"
   ]
  },
  {
   "cell_type": "markdown",
   "id": "9dd39958",
   "metadata": {},
   "source": [
    "## 📦 Summary\n",
    "User interaction makes programs dynamic and interesting."
   ]
  }
 ],
 "metadata": {
  "kernelspec": {
   "display_name": "Python 3",
   "language": "python",
   "name": "python3"
  },
  "language_info": {
   "codemirror_mode": {
    "name": "ipython",
    "version": 3
   },
   "file_extension": ".py",
   "mimetype": "text/x-python",
   "name": "python",
   "nbconvert_exporter": "python",
   "pygments_lexer": "ipython3",
   "version": "3.13.2"
  }
 },
 "nbformat": 4,
 "nbformat_minor": 5
}
