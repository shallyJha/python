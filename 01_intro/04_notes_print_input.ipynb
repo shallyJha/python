{
 "cells": [
  {
   "cell_type": "markdown",
   "id": "efedd1b2",
   "metadata": {},
   "source": [
    "# 📘 Topic: Using print() and input()"
   ]
  },
  {
   "cell_type": "markdown",
   "id": "53380263",
   "metadata": {},
   "source": [
    "## ✨ Objectives\n",
    "- Output data using `print()`\n",
    "- Take user input with `input()`"
   ]
  },
  {
   "cell_type": "code",
   "execution_count": null,
   "id": "b326415c",
   "metadata": {},
   "outputs": [],
   "source": [
    "name = input(\"What is your name? \")\n",
    "print(\"Hello,\", name)"
   ]
  },
  {
   "cell_type": "markdown",
   "id": "6171a879",
   "metadata": {},
   "source": [
    "## 🧠 Key Concepts\n",
    "- `input()` always returns a string\n",
    "- You can store and manipulate input"
   ]
  },
  {
   "cell_type": "code",
   "execution_count": null,
   "id": "621db8e2",
   "metadata": {},
   "outputs": [],
   "source": [
    "age = input(\"Enter your age: \")\n",
    "print(\"You are\", age, \"years old\")"
   ]
  },
  {
   "cell_type": "markdown",
   "id": "9e537b25",
   "metadata": {},
   "source": [
    "## 🧪 Try it Yourself\n",
    "> Ask the user for their favorite food and print a sentence using it."
   ]
  },
  {
   "cell_type": "markdown",
   "id": "9dd39958",
   "metadata": {},
   "source": [
    "## 📦 Summary\n",
    "User interaction makes programs dynamic and interesting."
   ]
  }
 ],
 "metadata": {},
 "nbformat": 4,
 "nbformat_minor": 5
}