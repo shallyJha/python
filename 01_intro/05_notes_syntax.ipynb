{
 "cells": [
  {
   "cell_type": "markdown",
   "id": "ae870e94",
   "metadata": {},
   "source": [
    "# 📘 Topic: Python Syntax & Indentation"
   ]
  },
  {
   "cell_type": "markdown",
   "id": "f8e35192",
   "metadata": {},
   "source": [
    "## ✨ Objectives\n",
    "- Understand Python’s syntax rules\n",
    "- Learn the importance of indentation"
   ]
  },
  {
   "cell_type": "code",
   "execution_count": null,
   "id": "0f89d488",
   "metadata": {},
   "outputs": [],
   "source": [
    "if 5 > 2:\n",
    "    print(\"5 is greater than 2\")"
   ]
  },
  {
   "cell_type": "markdown",
   "id": "cda41fb1",
   "metadata": {},
   "source": [
    "## 🧠 Key Concepts\n",
    "- Indentation defines code blocks\n",
    "- No `{}` like other languages"
   ]
  },
  {
   "cell_type": "code",
   "execution_count": null,
   "id": "61c3341a",
   "metadata": {},
   "outputs": [],
   "source": [
    "for i in range(3):\n",
    "    print(\"Line\", i)"
   ]
  },
  {
   "cell_type": "markdown",
   "id": "d9eb94ad",
   "metadata": {},
   "source": [
    "## 🧪 Try it Yourself\n",
    "> Write an if-statement that checks if a number is positive."
   ]
  },
  {
   "cell_type": "markdown",
   "id": "591cec71",
   "metadata": {},
   "source": [
    "## 📦 Summary\n",
    "Python relies on indentation — spacing matters!"
   ]
  }
 ],
 "metadata": {},
 "nbformat": 4,
 "nbformat_minor": 5
}