{
 "cells": [
  {
   "cell_type": "markdown",
   "id": "ae870e94",
   "metadata": {},
   "source": [
    "# 📘 Topic: Python Syntax & Indentation"
   ]
  },
  {
   "cell_type": "markdown",
   "id": "f8e35192",
   "metadata": {},
   "source": [
    "## ✨ Objectives\n",
    "- Understand Python’s syntax rules\n",
    "- Learn the importance of indentation"
   ]
  },
  {
   "cell_type": "code",
   "execution_count": 1,
   "id": "0f89d488",
   "metadata": {},
   "outputs": [
    {
     "name": "stdout",
     "output_type": "stream",
     "text": [
      "5 is greater than 2\n"
     ]
    }
   ],
   "source": [
    "if 5 > 2:\n",
    "    print(\"5 is greater than 2\")"
   ]
  },
  {
   "cell_type": "markdown",
   "id": "cda41fb1",
   "metadata": {},
   "source": [
    "## 🧠 Key Concepts\n",
    "- Indentation defines code blocks\n",
    "- No `{}` like other languages"
   ]
  },
  {
   "cell_type": "code",
   "execution_count": 2,
   "id": "61c3341a",
   "metadata": {},
   "outputs": [
    {
     "name": "stdout",
     "output_type": "stream",
     "text": [
      "Line 0\n",
      "Line 1\n",
      "Line 2\n"
     ]
    }
   ],
   "source": [
    "for i in range(3):\n",
    "    print(\"Line\", i)"
   ]
  },
  {
   "cell_type": "markdown",
   "id": "d9eb94ad",
   "metadata": {},
   "source": [
    "## 🧪 Try it Yourself\n",
    "> Write an if-statement that checks if a number is positive."
   ]
  },
  {
   "cell_type": "code",
   "execution_count": 3,
   "id": "8a2a042d",
   "metadata": {},
   "outputs": [
    {
     "name": "stdout",
     "output_type": "stream",
     "text": [
      "Negative\n"
     ]
    }
   ],
   "source": [
    "# Write your code here\n",
    "num=int(input(\"write a number\"))\n",
    "if num>=0:\n",
    "    print(\"Positive\")\n",
    "else:\n",
    "    print(\"Negative\")"
   ]
  },
  {
   "cell_type": "markdown",
   "id": "591cec71",
   "metadata": {},
   "source": [
    "## 📦 Summary\n",
    "Python relies on indentation — spacing matters!"
   ]
  }
 ],
 "metadata": {
  "kernelspec": {
   "display_name": "venv",
   "language": "python",
   "name": "python3"
  },
  "language_info": {
   "codemirror_mode": {
    "name": "ipython",
    "version": 3
   },
   "file_extension": ".py",
   "mimetype": "text/x-python",
   "name": "python",
   "nbconvert_exporter": "python",
   "pygments_lexer": "ipython3",
   "version": "3.13.2"
  }
 },
 "nbformat": 4,
 "nbformat_minor": 5
}
