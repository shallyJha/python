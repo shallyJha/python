{
 "cells": [
  {
   "cell_type": "markdown",
   "id": "9a2ec46a",
   "metadata": {},
   "source": [
    "# 📘 Topic: Primitive Data Types"
   ]
  },
  {
   "cell_type": "markdown",
   "id": "c5a55bfc",
   "metadata": {},
   "source": [
    "## ✨ Objectives\n",
    "- Learn the basic data types in Python\n",
    "- Understand how to check and convert types"
   ]
  },
  {
   "cell_type": "markdown",
   "id": "7d077904",
   "metadata": {},
   "source": [
    "## 🧠 Key Concepts\n",
    "Python has several built-in data types including:\n",
    "- int\n",
    "- float\n",
    "- str\n",
    "- bool"
   ]
  },
  {
   "cell_type": "code",
   "execution_count": null,
   "id": "7f7d447c",
   "metadata": {},
   "outputs": [],
   "source": [
    "a = 10           # int\n",
    "b = 3.14         # float\n",
    "c = \"hello\"      # str\n",
    "d = True         # bool"
   ]
  },
  {
   "cell_type": "code",
   "execution_count": null,
   "id": "9b16a09b",
   "metadata": {},
   "outputs": [],
   "source": [
    "print(type(a), type(b), type(c), type(d))"
   ]
  },
  {
   "cell_type": "markdown",
   "id": "97637ae5",
   "metadata": {},
   "source": [
    "## 🧪 Try it Yourself\n",
    "> Declare one variable of each type and print their types."
   ]
  },
  {
   "cell_type": "markdown",
   "id": "00d0118a",
   "metadata": {},
   "source": [
    "## 📦 Summary\n",
    "Data types are the foundation of all operations in Python."
   ]
  }
 ],
 "metadata": {},
 "nbformat": 4,
 "nbformat_minor": 5
}