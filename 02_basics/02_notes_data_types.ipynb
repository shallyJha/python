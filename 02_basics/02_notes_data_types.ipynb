{
 "cells": [
  {
   "cell_type": "markdown",
   "id": "9a2ec46a",
   "metadata": {},
   "source": [
    "# 📘 Topic: Primitive Data Types"
   ]
  },
  {
   "cell_type": "markdown",
   "id": "c5a55bfc",
   "metadata": {},
   "source": [
    "## ✨ Objectives\n",
    "- Learn the basic data types in Python\n",
    "- Understand how to check and convert types"
   ]
  },
  {
   "cell_type": "markdown",
   "id": "7d077904",
   "metadata": {},
   "source": [
    "## 🧠 Key Concepts\n",
    "Python has several built-in data types including:\n",
    "- int\n",
    "- float\n",
    "- str\n",
    "- bool"
   ]
  },
  {
   "cell_type": "code",
   "execution_count": 1,
   "id": "7f7d447c",
   "metadata": {},
   "outputs": [],
   "source": [
    "a = 10           # int\n",
    "b = 3.14         # float\n",
    "c = \"hello\"      # str\n",
    "d = True         # bool"
   ]
  },
  {
   "cell_type": "code",
   "execution_count": 2,
   "id": "9b16a09b",
   "metadata": {},
   "outputs": [
    {
     "name": "stdout",
     "output_type": "stream",
     "text": [
      "<class 'int'> <class 'float'> <class 'str'> <class 'bool'>\n"
     ]
    }
   ],
   "source": [
    "print(type(a), type(b), type(c), type(d))"
   ]
  },
  {
   "cell_type": "markdown",
   "id": "97637ae5",
   "metadata": {},
   "source": [
    "## 🧪 Try it Yourself\n",
    "> Declare one variable of each type and print their types."
   ]
  },
  {
   "cell_type": "code",
   "execution_count": 3,
   "id": "74dca69f",
   "metadata": {},
   "outputs": [],
   "source": [
    "# Write your code here"
   ]
  },
  {
   "cell_type": "markdown",
   "id": "00d0118a",
   "metadata": {},
   "source": [
    "## 📦 Summary\n",
    "Data types are the foundation of all operations in Python."
   ]
  }
 ],
 "metadata": {
  "kernelspec": {
   "display_name": "Python 3",
   "language": "python",
   "name": "python3"
  },
  "language_info": {
   "codemirror_mode": {
    "name": "ipython",
    "version": 3
   },
   "file_extension": ".py",
   "mimetype": "text/x-python",
   "name": "python",
   "nbconvert_exporter": "python",
   "pygments_lexer": "ipython3",
   "version": "3.13.2"
  }
 },
 "nbformat": 4,
 "nbformat_minor": 5
}
