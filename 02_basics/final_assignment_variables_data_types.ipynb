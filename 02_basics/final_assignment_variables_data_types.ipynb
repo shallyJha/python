{
 "cells": [
  {
   "cell_type": "markdown",
   "id": "3d27e457",
   "metadata": {},
   "source": [
    "# 🧪 Final Assignment: Variables and Data Types"
   ]
  },
  {
   "cell_type": "markdown",
   "id": "35920bd8",
   "metadata": {},
   "source": [
    "## Instructions:\n",
    "Complete the tasks below to practice what you’ve learned."
   ]
  },
  {
   "cell_type": "markdown",
   "id": "808f721e",
   "metadata": {},
   "source": [
    "### Task 1: Create a variable for your name, age, and city. Print them."
   ]
  },
  {
   "cell_type": "code",
   "execution_count": 1,
   "id": "ac6e8d31",
   "metadata": {},
   "outputs": [],
   "source": [
    "# Write your code here"
   ]
  },
  {
   "cell_type": "markdown",
   "id": "d88f3383",
   "metadata": {},
   "source": [
    "### Task 2: Ask the user for their age, convert it to int, and print their age in 5 years."
   ]
  },
  {
   "cell_type": "code",
   "execution_count": 2,
   "id": "c7d5a7d3",
   "metadata": {},
   "outputs": [],
   "source": [
    "# Write your code here"
   ]
  },
  {
   "cell_type": "markdown",
   "id": "521530f8",
   "metadata": {},
   "source": [
    "### Task 3: Create variables of type int, float, bool, and str. Print their types."
   ]
  },
  {
   "cell_type": "code",
   "execution_count": 3,
   "id": "e4e6cead",
   "metadata": {},
   "outputs": [],
   "source": [
    "# Write your code here"
   ]
  },
  {
   "cell_type": "markdown",
   "id": "90bf8c85",
   "metadata": {},
   "source": [
    "### Bonus: Take two numbers as input, convert them to int, add and print the result."
   ]
  },
  {
   "cell_type": "code",
   "execution_count": 4,
   "id": "9adbb0b2",
   "metadata": {},
   "outputs": [],
   "source": [
    "# Write your code here"
   ]
  }
 ],
 "metadata": {
  "kernelspec": {
   "display_name": "Python 3",
   "language": "python",
   "name": "python3"
  },
  "language_info": {
   "codemirror_mode": {
    "name": "ipython",
    "version": 3
   },
   "file_extension": ".py",
   "mimetype": "text/x-python",
   "name": "python",
   "nbconvert_exporter": "python",
   "pygments_lexer": "ipython3",
   "version": "3.13.2"
  }
 },
 "nbformat": 4,
 "nbformat_minor": 5
}
