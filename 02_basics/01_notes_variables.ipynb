{
 "cells": [
  {
   "cell_type": "markdown",
   "id": "1b58ebb3",
   "metadata": {},
   "source": [
    "# 📘 Topic: Variables and Assignment"
   ]
  },
  {
   "cell_type": "markdown",
   "id": "a4895875",
   "metadata": {},
   "source": [
    "## ✨ Objectives\n",
    "- Understand what variables are\n",
    "- Learn how to assign values\n",
    "- Explore naming conventions"
   ]
  },
  {
   "cell_type": "markdown",
   "id": "d06f866d",
   "metadata": {},
   "source": [
    "## 🧠 Key Concepts\n",
    "Variables are containers for storing data values."
   ]
  },
  {
   "cell_type": "code",
   "execution_count": null,
   "id": "246d4ec9",
   "metadata": {},
   "outputs": [],
   "source": [
    "x = 5\n",
    "name = \"Alice\"\n",
    "print(x, name)"
   ]
  },
  {
   "cell_type": "markdown",
   "id": "70f97f91",
   "metadata": {},
   "source": [
    "### Naming Rules:\n",
    "- Use letters, numbers, underscores\n",
    "- Cannot start with a number\n",
    "- Be descriptive (`user_age` > `ua`)"
   ]
  },
  {
   "cell_type": "code",
   "execution_count": null,
   "id": "ff03d7b2",
   "metadata": {},
   "outputs": [],
   "source": [
    "user_age = 25\n",
    "print(\"User age is\", user_age)"
   ]
  },
  {
   "cell_type": "markdown",
   "id": "562e8691",
   "metadata": {},
   "source": [
    "## 🧪 Try it Yourself\n",
    "> Declare 3 variables: your name, age, and country. Print them."
   ]
  },
  {
   "cell_type": "markdown",
   "id": "5483fdcf",
   "metadata": {},
   "source": [
    "## 📦 Summary\n",
    "Variables make it easy to reuse and manage values in your code."
   ]
  }
 ],
 "metadata": {},
 "nbformat": 4,
 "nbformat_minor": 5
}