{
 "cells": [
  {
   "cell_type": "markdown",
   "id": "1b58ebb3",
   "metadata": {},
   "source": [
    "# 📘 Topic: Variables and Assignment"
   ]
  },
  {
   "cell_type": "markdown",
   "id": "a4895875",
   "metadata": {},
   "source": [
    "## ✨ Objectives\n",
    "- Understand what variables are\n",
    "- Learn how to assign values\n",
    "- Explore naming conventions"
   ]
  },
  {
   "cell_type": "markdown",
   "id": "d06f866d",
   "metadata": {},
   "source": [
    "## 🧠 Key Concepts\n",
    "Variables are containers for storing data values."
   ]
  },
  {
   "cell_type": "code",
   "execution_count": 1,
   "id": "246d4ec9",
   "metadata": {},
   "outputs": [
    {
     "name": "stdout",
     "output_type": "stream",
     "text": [
      "5 Alice\n"
     ]
    }
   ],
   "source": [
    "x = 5\n",
    "name = \"Alice\"\n",
    "print(x, name)"
   ]
  },
  {
   "cell_type": "markdown",
   "id": "70f97f91",
   "metadata": {},
   "source": [
    "### Naming Rules:\n",
    "- Use letters, numbers, underscores\n",
    "- Cannot start with a number\n",
    "- Be descriptive (`user_age` > `ua`)"
   ]
  },
  {
   "cell_type": "code",
   "execution_count": 2,
   "id": "ff03d7b2",
   "metadata": {},
   "outputs": [
    {
     "name": "stdout",
     "output_type": "stream",
     "text": [
      "User age is 25\n"
     ]
    }
   ],
   "source": [
    "user_age = 25\n",
    "print(\"User age is\", user_age)"
   ]
  },
  {
   "cell_type": "markdown",
   "id": "562e8691",
   "metadata": {},
   "source": [
    "## 🧪 Try it Yourself\n",
    "> Declare 3 variables: your name, age, and country. Print them."
   ]
  },
  {
   "cell_type": "code",
   "execution_count": 3,
   "id": "2f979acb",
   "metadata": {},
   "outputs": [],
   "source": [
    "# Write your code here"
   ]
  },
  {
   "cell_type": "markdown",
   "id": "5483fdcf",
   "metadata": {},
   "source": [
    "## 📦 Summary\n",
    "Variables make it easy to reuse and manage values in your code."
   ]
  }
 ],
 "metadata": {
  "kernelspec": {
   "display_name": "Python 3",
   "language": "python",
   "name": "python3"
  },
  "language_info": {
   "codemirror_mode": {
    "name": "ipython",
    "version": 3
   },
   "file_extension": ".py",
   "mimetype": "text/x-python",
   "name": "python",
   "nbconvert_exporter": "python",
   "pygments_lexer": "ipython3",
   "version": "3.13.2"
  }
 },
 "nbformat": 4,
 "nbformat_minor": 5
}
