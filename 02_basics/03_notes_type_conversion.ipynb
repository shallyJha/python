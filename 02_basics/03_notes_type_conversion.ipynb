{
 "cells": [
  {
   "cell_type": "markdown",
   "id": "f0a218f6",
   "metadata": {},
   "source": [
    "# 📘 Topic: Type Conversion"
   ]
  },
  {
   "cell_type": "markdown",
   "id": "6765beea",
   "metadata": {},
   "source": [
    "## ✨ Objectives\n",
    "- Convert between different data types\n",
    "- Understand implicit vs explicit conversion"
   ]
  },
  {
   "cell_type": "markdown",
   "id": "c1947776",
   "metadata": {},
   "source": [
    "## 🧠 Key Concepts\n",
    "Use built-in functions:\n",
    "- `int()`\n",
    "- `float()`\n",
    "- `str()`\n",
    "- `bool()`"
   ]
  },
  {
   "cell_type": "code",
   "execution_count": 1,
   "id": "4a0b2241",
   "metadata": {},
   "outputs": [
    {
     "name": "stdout",
     "output_type": "stream",
     "text": [
      "15\n"
     ]
    }
   ],
   "source": [
    "x = \"10\"\n",
    "y = int(x) + 5\n",
    "print(y)"
   ]
  },
  {
   "cell_type": "markdown",
   "id": "74be69b2",
   "metadata": {},
   "source": [
    "### Implicit conversion example:"
   ]
  },
  {
   "cell_type": "code",
   "execution_count": 2,
   "id": "9647c10a",
   "metadata": {},
   "outputs": [
    {
     "name": "stdout",
     "output_type": "stream",
     "text": [
      "<class 'float'>\n"
     ]
    }
   ],
   "source": [
    "x = 5\n",
    "y = 2.0\n",
    "print(type(x + y))  # float"
   ]
  },
  {
   "cell_type": "markdown",
   "id": "5ec95de6",
   "metadata": {},
   "source": [
    "## 🧪 Try it Yourself\n",
    "> Convert a string to an int, and add it to another int."
   ]
  },
  {
   "cell_type": "code",
   "execution_count": 1,
   "id": "55b54793",
   "metadata": {},
   "outputs": [
    {
     "name": "stdout",
     "output_type": "stream",
     "text": [
      "48\n"
     ]
    }
   ],
   "source": [
    "# Write your code here\n",
    "y=\"34\"\n",
    "z=int(y)+14\n",
    "print(z)"
   ]
  },
  {
   "cell_type": "markdown",
   "id": "2a1fb073",
   "metadata": {},
   "source": [
    "## 📦 Summary\n",
    "Conversion allows flexibility when working with user inputs and calculations."
   ]
  }
 ],
 "metadata": {
  "kernelspec": {
   "display_name": "venv",
   "language": "python",
   "name": "python3"
  },
  "language_info": {
   "codemirror_mode": {
    "name": "ipython",
    "version": 3
   },
   "file_extension": ".py",
   "mimetype": "text/x-python",
   "name": "python",
   "nbconvert_exporter": "python",
   "pygments_lexer": "ipython3",
   "version": "3.13.2"
  }
 },
 "nbformat": 4,
 "nbformat_minor": 5
}
