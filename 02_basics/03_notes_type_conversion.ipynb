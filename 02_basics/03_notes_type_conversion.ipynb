{
 "cells": [
  {
   "cell_type": "markdown",
   "id": "f0a218f6",
   "metadata": {},
   "source": [
    "# 📘 Topic: Type Conversion"
   ]
  },
  {
   "cell_type": "markdown",
   "id": "6765beea",
   "metadata": {},
   "source": [
    "## ✨ Objectives\n",
    "- Convert between different data types\n",
    "- Understand implicit vs explicit conversion"
   ]
  },
  {
   "cell_type": "markdown",
   "id": "c1947776",
   "metadata": {},
   "source": [
    "## 🧠 Key Concepts\n",
    "Use built-in functions:\n",
    "- `int()`\n",
    "- `float()`\n",
    "- `str()`\n",
    "- `bool()`"
   ]
  },
  {
   "cell_type": "code",
   "execution_count": null,
   "id": "4a0b2241",
   "metadata": {},
   "outputs": [],
   "source": [
    "x = \"10\"\n",
    "y = int(x) + 5\n",
    "print(y)"
   ]
  },
  {
   "cell_type": "markdown",
   "id": "74be69b2",
   "metadata": {},
   "source": [
    "### Implicit conversion example:"
   ]
  },
  {
   "cell_type": "code",
   "execution_count": null,
   "id": "9647c10a",
   "metadata": {},
   "outputs": [],
   "source": [
    "x = 5\n",
    "y = 2.0\n",
    "print(type(x + y))  # float"
   ]
  },
  {
   "cell_type": "markdown",
   "id": "5ec95de6",
   "metadata": {},
   "source": [
    "## 🧪 Try it Yourself\n",
    "> Convert a string to an int, and add it to another int."
   ]
  },
  {
   "cell_type": "markdown",
   "id": "2a1fb073",
   "metadata": {},
   "source": [
    "## 📦 Summary\n",
    "Conversion allows flexibility when working with user inputs and calculations."
   ]
  }
 ],
 "metadata": {},
 "nbformat": 4,
 "nbformat_minor": 5
}