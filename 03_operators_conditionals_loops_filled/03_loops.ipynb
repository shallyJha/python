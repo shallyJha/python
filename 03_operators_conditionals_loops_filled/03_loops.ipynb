{
 "cells": [
  {
   "cell_type": "markdown",
   "id": "d17b0d1c",
   "metadata": {},
   "source": [
    "# 🔁 Loops in Python\n",
    "\n",
    "## 📌 Introduction\n",
    "\n",
    "Loops allow you to run a block of code repeatedly. They are essential for tasks like:\n",
    "\n",
    "- Iterating over a list of items\n",
    "- Repeating a task a specific number of times\n",
    "- Running code until a condition is met\n",
    "\n",
    "Python supports two main types of loops:\n",
    "\n",
    "- `for` loops\n",
    "- `while` loops"
   ]
  },
  {
   "cell_type": "markdown",
   "id": "4128d5bb",
   "metadata": {},
   "source": [
    "## 🔄 1. The `for` Loop\n",
    "\n",
    "Used for iterating over a sequence (like a list, string, range, etc.)."
   ]
  },
  {
   "cell_type": "code",
   "execution_count": 1,
   "id": "43158e43",
   "metadata": {},
   "outputs": [
    {
     "name": "stdout",
     "output_type": "stream",
     "text": [
      "i = 1\n",
      "i = 2\n",
      "i = 3\n",
      "i = 4\n",
      "i = 5\n"
     ]
    }
   ],
   "source": [
    "# Print numbers 1 through 5\n",
    "for i in range(1, 6):\n",
    "    print(\"i =\", i)"
   ]
  },
  {
   "cell_type": "markdown",
   "id": "590b7df5",
   "metadata": {},
   "source": [
    "### 🔎 Explanation:\n",
    "- `range(1, 6)` generates numbers from 1 to 5 (6 is not included).\n",
    "- Each time through the loop, `i` takes the next value."
   ]
  },
  {
   "cell_type": "markdown",
   "id": "97a0dace",
   "metadata": {},
   "source": [
    "## 💡 Looping Through Different Data Types\n",
    "\n",
    "### ✅ Loop through a list:"
   ]
  },
  {
   "cell_type": "code",
   "execution_count": 2,
   "id": "e4c73b36",
   "metadata": {},
   "outputs": [
    {
     "name": "stdout",
     "output_type": "stream",
     "text": [
      "apple\n",
      "banana\n",
      "cherry\n"
     ]
    }
   ],
   "source": [
    "fruits = [\"apple\", \"banana\", \"cherry\"]\n",
    "for fruit in fruits:\n",
    "    print(fruit)"
   ]
  },
  {
   "cell_type": "markdown",
   "id": "eb90167a",
   "metadata": {},
   "source": [
    "### ✅ Loop through a string:"
   ]
  },
  {
   "cell_type": "code",
   "execution_count": 3,
   "id": "2f87fda3",
   "metadata": {},
   "outputs": [
    {
     "name": "stdout",
     "output_type": "stream",
     "text": [
      "h\n",
      "e\n",
      "l\n",
      "l\n",
      "o\n"
     ]
    }
   ],
   "source": [
    "for char in \"hello\":\n",
    "    print(char)"
   ]
  },
  {
   "cell_type": "markdown",
   "id": "790a6540",
   "metadata": {},
   "source": [
    "## 🔁 2. The `while` Loop\n",
    "\n",
    "Repeats code **while** a condition is true."
   ]
  },
  {
   "cell_type": "code",
   "execution_count": 4,
   "id": "98776c99",
   "metadata": {},
   "outputs": [
    {
     "name": "stdout",
     "output_type": "stream",
     "text": [
      "x = 1\n",
      "x = 2\n",
      "x = 3\n",
      "x = 4\n",
      "x = 5\n"
     ]
    }
   ],
   "source": [
    "x = 1\n",
    "while x <= 5:\n",
    "    print(\"x =\", x)\n",
    "    x += 1"
   ]
  },
  {
   "cell_type": "markdown",
   "id": "4330a9ff",
   "metadata": {},
   "source": [
    "### 🔎 Explanation:\n",
    "- The loop continues as long as the condition (`x <= 5`) is true.\n",
    "- Don't forget to update the variable to avoid infinite loops!"
   ]
  },
  {
   "cell_type": "markdown",
   "id": "f71f0f1b",
   "metadata": {},
   "source": [
    "## ⛔ 3. Control Statements\n",
    "\n",
    "Python includes several special keywords to control loops:"
   ]
  },
  {
   "cell_type": "markdown",
   "id": "4b0b19ee",
   "metadata": {},
   "source": [
    "### 🔹 `break`\n",
    "\n",
    "Stops the loop immediately."
   ]
  },
  {
   "cell_type": "code",
   "execution_count": 5,
   "id": "91ff6d86",
   "metadata": {},
   "outputs": [
    {
     "name": "stdout",
     "output_type": "stream",
     "text": [
      "0\n",
      "1\n",
      "2\n",
      "3\n",
      "4\n"
     ]
    }
   ],
   "source": [
    "for i in range(10):\n",
    "    if i == 5:\n",
    "        break\n",
    "    print(i)"
   ]
  },
  {
   "cell_type": "markdown",
   "id": "803a6dcd",
   "metadata": {},
   "source": [
    "### 🔹 `continue`\n",
    "\n",
    "Skips the current iteration and continues with the next."
   ]
  },
  {
   "cell_type": "code",
   "execution_count": 6,
   "id": "0f7bac74",
   "metadata": {},
   "outputs": [
    {
     "name": "stdout",
     "output_type": "stream",
     "text": [
      "0\n",
      "1\n",
      "3\n",
      "4\n"
     ]
    }
   ],
   "source": [
    "for i in range(5):\n",
    "    if i == 2:\n",
    "        continue\n",
    "    print(i)"
   ]
  },
  {
   "cell_type": "markdown",
   "id": "949535c6",
   "metadata": {},
   "source": [
    "### 🔹 `pass`\n",
    "\n",
    "Does nothing — a placeholder for future code."
   ]
  },
  {
   "cell_type": "code",
   "execution_count": 7,
   "id": "de67e87e",
   "metadata": {},
   "outputs": [],
   "source": [
    "for i in range(3):\n",
    "    pass  # TODO: implement later"
   ]
  },
  {
   "cell_type": "markdown",
   "id": "917aa946",
   "metadata": {},
   "source": [
    "## 📍 4. The `else` Clause with Loops\n",
    "\n",
    "You can add an `else` block to a loop. It runs if the loop finishes **normally** (not interrupted by `break`)."
   ]
  },
  {
   "cell_type": "code",
   "execution_count": 8,
   "id": "c9335b33",
   "metadata": {},
   "outputs": [
    {
     "name": "stdout",
     "output_type": "stream",
     "text": [
      "0\n",
      "1\n",
      "2\n",
      "Loop completed successfully\n"
     ]
    }
   ],
   "source": [
    "for i in range(3):\n",
    "    print(i)\n",
    "else:\n",
    "    print(\"Loop completed successfully\")"
   ]
  },
  {
   "cell_type": "markdown",
   "id": "d166152c",
   "metadata": {},
   "source": [
    "## 🧱 5. Nested Loops\n",
    "\n",
    "A loop inside another loop. Useful for working with 2D data or patterns."
   ]
  },
  {
   "cell_type": "code",
   "execution_count": 9,
   "id": "93e68093",
   "metadata": {},
   "outputs": [
    {
     "name": "stdout",
     "output_type": "stream",
     "text": [
      "1,1  1,2  1,3  \n",
      "2,1  2,2  2,3  \n",
      "3,1  3,2  3,3  \n"
     ]
    }
   ],
   "source": [
    "for i in range(1, 4):\n",
    "    for j in range(1, 4):\n",
    "        print(f\"{i},{j}\", end=\"  \")\n",
    "    print()"
   ]
  },
  {
   "cell_type": "markdown",
   "id": "e8c42a0c",
   "metadata": {},
   "source": [
    "## 🌟 6. Pattern Printing with Loops"
   ]
  },
  {
   "cell_type": "code",
   "execution_count": 10,
   "id": "96f8b0e2",
   "metadata": {},
   "outputs": [
    {
     "name": "stdout",
     "output_type": "stream",
     "text": [
      "*\n",
      "**\n",
      "***\n",
      "****\n",
      "*****\n"
     ]
    }
   ],
   "source": [
    "# Print a right-angled triangle\n",
    "rows = 5\n",
    "for i in range(1, rows + 1):\n",
    "    print(\"*\" * i)"
   ]
  },
  {
   "cell_type": "markdown",
   "id": "d20d5ae9",
   "metadata": {},
   "source": [
    "## ⚠️ 7. Common Mistakes to Avoid\n",
    "\n",
    "- Forgetting to update the loop variable in a `while` loop (infinite loop).\n",
    "- Misplacing `break` or `continue`.\n",
    "- Using incorrect indentation for nested loops."
   ]
  },
  {
   "cell_type": "markdown",
   "id": "df9a5bbb",
   "metadata": {},
   "source": [
    "## 🧪 Practice Exercises"
   ]
  },
  {
   "cell_type": "markdown",
   "id": "e2bd6323",
   "metadata": {},
   "source": [
    "1. Use a `for` loop to print all even numbers from 1 to 20."
   ]
  },
  {
   "cell_type": "code",
   "execution_count": 11,
   "id": "74c17395",
   "metadata": {},
   "outputs": [],
   "source": [
    "# Write your code here"
   ]
  },
  {
   "cell_type": "markdown",
   "id": "599ecf74",
   "metadata": {},
   "source": [
    "2. Write a `while` loop to ask the user for a password until it's correct."
   ]
  },
  {
   "cell_type": "code",
   "execution_count": 12,
   "id": "378e2939",
   "metadata": {},
   "outputs": [],
   "source": [
    "# Write your code here"
   ]
  },
  {
   "cell_type": "markdown",
   "id": "0d4099d3",
   "metadata": {},
   "source": [
    "3. Create a nested loop to print a multiplication table from 1 to 5."
   ]
  },
  {
   "cell_type": "code",
   "execution_count": 13,
   "id": "838daf0c",
   "metadata": {},
   "outputs": [],
   "source": [
    "# Write your code here"
   ]
  },
  {
   "cell_type": "markdown",
   "id": "7e9ffe26",
   "metadata": {},
   "source": [
    "4. Print a pattern of stars in pyramid form."
   ]
  },
  {
   "cell_type": "code",
   "execution_count": 14,
   "id": "aa57dd97",
   "metadata": {},
   "outputs": [],
   "source": [
    "# Write your code here"
   ]
  },
  {
   "cell_type": "markdown",
   "id": "e692390b",
   "metadata": {},
   "source": [
    "## ✅ Summary\n",
    "\n",
    "- Use `for` when you know how many times to loop.\n",
    "- Use `while` when looping until a condition is met.\n",
    "- `break`, `continue`, and `pass` help you control loop execution.\n",
    "- Loops are essential for automation, repetition, and data processing."
   ]
  }
 ],
 "metadata": {
  "kernelspec": {
   "display_name": "Python 3",
   "language": "python",
   "name": "python3"
  },
  "language_info": {
   "codemirror_mode": {
    "name": "ipython",
    "version": 3
   },
   "file_extension": ".py",
   "mimetype": "text/x-python",
   "name": "python",
   "nbconvert_exporter": "python",
   "pygments_lexer": "ipython3",
   "version": "3.13.2"
  }
 },
 "nbformat": 4,
 "nbformat_minor": 5
}
