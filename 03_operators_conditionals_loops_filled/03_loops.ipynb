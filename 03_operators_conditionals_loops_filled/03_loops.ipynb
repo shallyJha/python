{
 "cells": [
  {
   "cell_type": "markdown",
   "id": "0e61afb6",
   "metadata": {},
   "source": [
    "# 🔁 Loops in Python"
   ]
  },
  {
   "cell_type": "markdown",
   "id": "df47e8c0",
   "metadata": {},
   "source": [
    "## 📌 Why Loops?\n",
    "To repeat a block of code multiple times without writing it repeatedly."
   ]
  },
  {
   "cell_type": "markdown",
   "id": "22095b01",
   "metadata": {},
   "source": [
    "## 🔄 `for` Loop\n",
    "Used to iterate over a sequence."
   ]
  },
  {
   "cell_type": "code",
   "execution_count": null,
   "id": "76781088",
   "metadata": {},
   "outputs": [],
   "source": [
    "for i in range(1, 6):\n",
    "    print(\"i =\", i)"
   ]
  },
  {
   "cell_type": "markdown",
   "id": "e9443e6e",
   "metadata": {},
   "source": [
    "## 🔁 `while` Loop\n",
    "Repeats as long as the condition is `True`."
   ]
  },
  {
   "cell_type": "code",
   "execution_count": null,
   "id": "62a4dd61",
   "metadata": {},
   "outputs": [],
   "source": [
    "x = 0\n",
    "while x < 5:\n",
    "    print(x)\n",
    "    x += 1"
   ]
  },
  {
   "cell_type": "markdown",
   "id": "50e369e3",
   "metadata": {},
   "source": [
    "## ⛔ Control Statements:\n",
    "### `break` - exit the loop early\n",
    "### `continue` - skip to next iteration"
   ]
  },
  {
   "cell_type": "code",
   "execution_count": null,
   "id": "e407b2cc",
   "metadata": {},
   "outputs": [],
   "source": [
    "for i in range(5):\n",
    "    if i == 3:\n",
    "        break\n",
    "    print(i)"
   ]
  },
  {
   "cell_type": "code",
   "execution_count": null,
   "id": "1858efde",
   "metadata": {},
   "outputs": [],
   "source": [
    "for i in range(5):\n",
    "    if i == 2:\n",
    "        continue\n",
    "    print(i)"
   ]
  },
  {
   "cell_type": "markdown",
   "id": "43677e80",
   "metadata": {},
   "source": [
    "## 🧪 Challenge:\n",
    "> Print the first 10 even numbers using a `while` loop."
   ]
  }
 ],
 "metadata": {},
 "nbformat": 4,
 "nbformat_minor": 5
}