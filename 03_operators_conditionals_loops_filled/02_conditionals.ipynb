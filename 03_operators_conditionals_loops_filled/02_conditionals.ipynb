{
 "cells": [
  {
   "cell_type": "markdown",
   "id": "0c5e5c58",
   "metadata": {},
   "source": [
    "# 🔀 Python Conditional Statements\n",
    "\n",
    "## 📌 Introduction\n",
    "Conditional statements let you control the flow of your program. They execute certain blocks of code only when specific conditions are met. Python supports:\n",
    "\n",
    "- `if` statements\n",
    "- `if-else` statements\n",
    "- `if-elif-else` chains\n",
    "- Nested conditionals\n",
    "- Ternary (inline) conditionals"
   ]
  },
  {
   "cell_type": "markdown",
   "id": "73667733",
   "metadata": {},
   "source": [
    "## ✅ 1. The `if` Statement\n",
    "\n",
    "The simplest form of condition. Runs a block of code if the condition is `True`."
   ]
  },
  {
   "cell_type": "code",
   "execution_count": 1,
   "id": "19c2a8e7",
   "metadata": {},
   "outputs": [
    {
     "name": "stdout",
     "output_type": "stream",
     "text": [
      "x is greater than 5\n"
     ]
    }
   ],
   "source": [
    "x = 10\n",
    "if x > 5:\n",
    "    print(\"x is greater than 5\")"
   ]
  },
  {
   "cell_type": "markdown",
   "id": "be571ca6",
   "metadata": {},
   "source": [
    "### 🔎 Explanation:\n",
    "- The condition `x > 5` is checked.\n",
    "- If it's `True`, the indented code runs."
   ]
  },
  {
   "cell_type": "markdown",
   "id": "12905c26",
   "metadata": {},
   "source": [
    "## 🔁 2. The `if-else` Statement\n",
    "\n",
    "Adds an alternative block of code if the condition is `False`."
   ]
  },
  {
   "cell_type": "code",
   "execution_count": 2,
   "id": "6c9e3085",
   "metadata": {},
   "outputs": [
    {
     "name": "stdout",
     "output_type": "stream",
     "text": [
      "You are too young to vote.\n"
     ]
    }
   ],
   "source": [
    "age = 17\n",
    "if age >= 18:\n",
    "    print(\"You can vote.\")\n",
    "else:\n",
    "    print(\"You are too young to vote.\")"
   ]
  },
  {
   "cell_type": "markdown",
   "id": "314388fc",
   "metadata": {},
   "source": [
    "### 🔎 Explanation:\n",
    "- If the `if` block fails, `else` runs by default."
   ]
  },
  {
   "cell_type": "markdown",
   "id": "db5e514a",
   "metadata": {},
   "source": [
    "## 🧱 3. The `if-elif-else` Chain\n",
    "\n",
    "Used when you have multiple conditions to evaluate."
   ]
  },
  {
   "cell_type": "code",
   "execution_count": 3,
   "id": "698ec727",
   "metadata": {},
   "outputs": [
    {
     "name": "stdout",
     "output_type": "stream",
     "text": [
      "Grade: C\n"
     ]
    }
   ],
   "source": [
    "score = 75\n",
    "\n",
    "if score >= 90:\n",
    "    print(\"Grade: A\")\n",
    "elif score >= 80:\n",
    "    print(\"Grade: B\")\n",
    "elif score >= 70:\n",
    "    print(\"Grade: C\")\n",
    "else:\n",
    "    print(\"Grade: F\")"
   ]
  },
  {
   "cell_type": "markdown",
   "id": "8b23c938",
   "metadata": {},
   "source": [
    "### 🔎 Explanation:\n",
    "- Python checks each condition top to bottom.\n",
    "- The first condition that evaluates to `True` is executed, then the chain ends."
   ]
  },
  {
   "cell_type": "markdown",
   "id": "3279c286",
   "metadata": {},
   "source": [
    "## 🧬 4. Nested Conditionals\n",
    "\n",
    "You can place `if` statements inside others to create complex logic trees."
   ]
  },
  {
   "cell_type": "code",
   "execution_count": 4,
   "id": "a8184ce5",
   "metadata": {},
   "outputs": [
    {
     "name": "stdout",
     "output_type": "stream",
     "text": [
      "Positive even number\n"
     ]
    }
   ],
   "source": [
    "number = 10\n",
    "\n",
    "if number > 0:\n",
    "    if number % 2 == 0:\n",
    "        print(\"Positive even number\")\n",
    "    else:\n",
    "        print(\"Positive odd number\")\n",
    "else:\n",
    "    print(\"Not a positive number\")"
   ]
  },
  {
   "cell_type": "markdown",
   "id": "3bc7845f",
   "metadata": {},
   "source": [
    "### 🔎 Explanation:\n",
    "- First checks if the number is positive.\n",
    "- Then checks even/odd inside the positive condition."
   ]
  },
  {
   "cell_type": "markdown",
   "id": "8aee82b7",
   "metadata": {},
   "source": [
    "## ⚡ 5. Ternary (Inline) Conditional Expression\n",
    "\n",
    "A short-hand version of an `if-else` statement."
   ]
  },
  {
   "cell_type": "code",
   "execution_count": 15,
   "id": "d8251054",
   "metadata": {},
   "outputs": [
    {
     "name": "stdout",
     "output_type": "stream",
     "text": [
      "Minor\n"
     ]
    }
   ],
   "source": [
    "age = 7\n",
    "status = \"Adult\" if age >= 18 else \"Minor\"\n",
    "print(status)"
   ]
  },
  {
   "cell_type": "markdown",
   "id": "adddfb32",
   "metadata": {},
   "source": [
    "### 🔎 Explanation:\n",
    "- This is great for simple decisions assigned to a variable."
   ]
  },
  {
   "cell_type": "markdown",
   "id": "461cbf7a",
   "metadata": {},
   "source": [
    "## ⚠️ 6. Common Mistakes to Avoid\n",
    "\n",
    "- ❌ Missing or incorrect indentation (Python uses whitespace)\n",
    "- ❌ Using `=` instead of `==` in condition checks\n",
    "- ❌ Forgetting colons (`:`) after `if`, `elif`, `else`"
   ]
  },
  {
   "cell_type": "code",
   "execution_count": 5,
   "id": "40deffed",
   "metadata": {},
   "outputs": [
    {
     "name": "stdout",
     "output_type": "stream",
     "text": [
      "x is 5\n"
     ]
    }
   ],
   "source": [
    "# Bad: if x = 5:\n",
    "# Good:\n",
    "x = 5\n",
    "if x == 5:\n",
    "    print(\"x is 5\")"
   ]
  },
  {
   "cell_type": "markdown",
   "id": "3f8fb323",
   "metadata": {},
   "source": [
    "## 📋 7. Real-World Example"
   ]
  },
  {
   "cell_type": "markdown",
   "id": "ea2cdffa",
   "metadata": {},
   "source": [
    "### 🌡️ Temperature Checker"
   ]
  },
  {
   "cell_type": "code",
   "execution_count": 6,
   "id": "1543504b",
   "metadata": {},
   "outputs": [
    {
     "name": "stdout",
     "output_type": "stream",
     "text": [
      "The weather is nice.\n"
     ]
    }
   ],
   "source": [
    "temperature = int(input(\"Enter temperature in °C: \"))\n",
    "\n",
    "if temperature >= 30:\n",
    "    print(\"It's hot outside.\")\n",
    "elif temperature >= 20:\n",
    "    print(\"The weather is nice.\")\n",
    "elif temperature >= 10:\n",
    "    print(\"It's a bit chilly.\")\n",
    "else:\n",
    "    print(\"It's cold!\")"
   ]
  },
  {
   "cell_type": "markdown",
   "id": "bb419010",
   "metadata": {},
   "source": [
    "## 🧪 Practice Exercises"
   ]
  },
  {
   "cell_type": "markdown",
   "id": "0fcb3f33",
   "metadata": {},
   "source": [
    "1. Ask the user for a number and print whether it's positive, negative, or zero."
   ]
  },
  {
   "cell_type": "code",
   "execution_count": 1,
   "id": "5183fd86",
   "metadata": {},
   "outputs": [
    {
     "name": "stdout",
     "output_type": "stream",
     "text": [
      "4 is positive\n"
     ]
    }
   ],
   "source": [
    "# Write your code here\n",
    "a=int(input(\"Write a number\"))\n",
    "if (a>0):\n",
    "    print(a,\"is positive\")\n",
    "elif (a<0):\n",
    "    print(a,\"is negative\")\n",
    "else:\n",
    "    print(a,\" is zero\")"
   ]
  },
  {
   "cell_type": "markdown",
   "id": "06900311",
   "metadata": {},
   "source": [
    "2. Create a grading system using `if-elif-else` for marks out of 100.\n",
    "- Assigns grades based on typical academic standards:\n",
    "    - A+: 90-100\n",
    "    - A: 80-89\n",
    "    - B: 70-79\n",
    "    - C: 60-69\n",
    "    - D: 50-59\n",
    "    - F: Below 50"
   ]
  },
  {
   "cell_type": "code",
   "execution_count": 12,
   "id": "5acda6c6",
   "metadata": {},
   "outputs": [
    {
     "name": "stdout",
     "output_type": "stream",
     "text": [
      "Your grade is A\n"
     ]
    }
   ],
   "source": [
    "# Write your code here\n",
    "marks=int(input(\"Write your marks!!\"))\n",
    "if(marks>=90):\n",
    "    print(\"Your grade is A+\")\n",
    "elif(marks>=80):\n",
    "    print(\"Your grade is A\")\n",
    "elif(marks>=70):\n",
    "    print(\"Your grade is B\")\n",
    "elif(marks>=60):\n",
    "    print(\"Your grade is C\")\n",
    "elif(marks>=50):\n",
    "    print(\"Your grade is D\")\n",
    "else:\n",
    "    print(\"Your grade is E\")\n",
    " \n",
    "    \n"
   ]
  },
  {
   "cell_type": "markdown",
   "id": "4efeeeb8",
   "metadata": {},
   "source": [
    "3. Use a ternary operator to assign \"Even\" or \"Odd\" based on a number."
   ]
  },
  {
   "cell_type": "code",
   "execution_count": 19,
   "id": "f4d9290a",
   "metadata": {},
   "outputs": [
    {
     "name": "stdout",
     "output_type": "stream",
     "text": [
      "Odd\n"
     ]
    }
   ],
   "source": [
    "# Write your code here\n",
    "num = int (input(\"Write a number!\"))\n",
    "status =\" Even\" if num%2==0  else \"Odd\"\n",
    "print(status)"
   ]
  },
  {
   "cell_type": "markdown",
   "id": "3d8e2229",
   "metadata": {},
   "source": [
    "4. Write a nested condition to determine if a number is positive and even."
   ]
  },
  {
   "cell_type": "code",
   "execution_count": 18,
   "id": "2f60e661",
   "metadata": {},
   "outputs": [
    {
     "name": "stdout",
     "output_type": "stream",
     "text": [
      "Positive odd number\n"
     ]
    }
   ],
   "source": [
    "# Write your code here\n",
    "number =int (input(\"Write a number\"))\n",
    "\n",
    "if number > 0:\n",
    "    if number % 2 == 0:\n",
    "        print(\"Positive even number\")\n",
    "    else:\n",
    "        print(\"Positive odd number\")\n",
    "else:\n",
    "    print(\"Not a positive number\")"
   ]
  },
  {
   "cell_type": "markdown",
   "id": "315f2975",
   "metadata": {},
   "source": [
    "## ✅ Summary\n",
    "\n",
    "- Use `if` for simple logic, `if-else` for alternatives.\n",
    "- `if-elif-else` chains are useful for multiple cases.\n",
    "- You can nest `if` statements inside others to create complex logic.\n",
    "- Inline conditionals (`ternary`) provide a concise way to write one-line decisions.\n",
    "- Be cautious with indentation, colons, and the difference between `=` and `==`."
   ]
  }
 ],
 "metadata": {
  "kernelspec": {
   "display_name": "venv",
   "language": "python",
   "name": "python3"
  },
  "language_info": {
   "codemirror_mode": {
    "name": "ipython",
    "version": 3
   },
   "file_extension": ".py",
   "mimetype": "text/x-python",
   "name": "python",
   "nbconvert_exporter": "python",
   "pygments_lexer": "ipython3",
   "version": "3.13.2"
  }
 },
 "nbformat": 4,
 "nbformat_minor": 5
}
