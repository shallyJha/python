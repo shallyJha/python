{
 "cells": [
  {
   "cell_type": "markdown",
   "id": "e231fd79",
   "metadata": {},
   "source": [
    "# 🔀 Conditional Statements in Python"
   ]
  },
  {
   "cell_type": "markdown",
   "id": "7134a63b",
   "metadata": {},
   "source": [
    "## 🧭 Introduction\n",
    "Conditional statements help your program make decisions using `if`, `elif`, and `else`."
   ]
  },
  {
   "cell_type": "markdown",
   "id": "e49d0934",
   "metadata": {},
   "source": [
    "## ✅ The `if` Statement\n",
    "Executes code block only if a condition is `True`."
   ]
  },
  {
   "cell_type": "code",
   "execution_count": null,
   "id": "4cbcc6bc",
   "metadata": {},
   "outputs": [],
   "source": [
    "x = 10\n",
    "if x > 5:\n",
    "    print(\"x is greater than 5\")"
   ]
  },
  {
   "cell_type": "markdown",
   "id": "249d708c",
   "metadata": {},
   "source": [
    "## 🔄 The `if-else` Statement\n",
    "Allows for a fallback condition."
   ]
  },
  {
   "cell_type": "code",
   "execution_count": null,
   "id": "acf9368c",
   "metadata": {},
   "outputs": [],
   "source": [
    "age = 17\n",
    "if age >= 18:\n",
    "    print(\"You can vote.\")\n",
    "else:\n",
    "    print(\"Too young to vote.\")"
   ]
  },
  {
   "cell_type": "markdown",
   "id": "f976a963",
   "metadata": {},
   "source": [
    "## 🧱 The `elif` Statement\n",
    "Adds multiple branches to test more than one condition."
   ]
  },
  {
   "cell_type": "code",
   "execution_count": null,
   "id": "e36db1a6",
   "metadata": {},
   "outputs": [],
   "source": [
    "score = 75\n",
    "if score >= 90:\n",
    "    print(\"A grade\")\n",
    "elif score >= 80:\n",
    "    print(\"B grade\")\n",
    "elif score >= 70:\n",
    "    print(\"C grade\")\n",
    "else:\n",
    "    print(\"Below average\")"
   ]
  },
  {
   "cell_type": "markdown",
   "id": "cb5a5e67",
   "metadata": {},
   "source": [
    "## 🧪 Exercise:\n",
    "> Ask the user for a number and print if it's positive, negative, or zero."
   ]
  }
 ],
 "metadata": {},
 "nbformat": 4,
 "nbformat_minor": 5
}