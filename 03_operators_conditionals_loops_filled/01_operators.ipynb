{
 "cells": [
  {
   "cell_type": "markdown",
   "id": "07913c2b",
   "metadata": {},
   "source": [
    "# 🧮 Operators in Python\n",
    "\n",
    "In this lesson, you'll learn how to perform operations in Python using various operators."
   ]
  },
  {
   "cell_type": "markdown",
   "id": "7782e5ed",
   "metadata": {},
   "source": [
    "## 🔢 1. Arithmetic Operators\n",
    "These are used to perform mathematical operations."
   ]
  },
  {
   "cell_type": "code",
   "execution_count": null,
   "id": "9cfbd2bc",
   "metadata": {},
   "outputs": [],
   "source": [
    "# Addition, Subtraction, Multiplication, Division\n",
    "x = 10\n",
    "y = 3\n",
    "print(\"Addition:\", x + y)\n",
    "print(\"Subtraction:\", x - y)\n",
    "print(\"Multiplication:\", x * y)\n",
    "print(\"Division:\", x / y)"
   ]
  },
  {
   "cell_type": "markdown",
   "id": "bdbadb90",
   "metadata": {},
   "source": [
    "## ➗ 2. Floor Division and Modulus\n",
    "- `//` returns the quotient without decimals\n",
    "- `%` returns the remainder"
   ]
  },
  {
   "cell_type": "code",
   "execution_count": null,
   "id": "94e04a33",
   "metadata": {},
   "outputs": [],
   "source": [
    "print(\"Floor Division:\", x // y)\n",
    "print(\"Modulus:\", x % y)"
   ]
  },
  {
   "cell_type": "markdown",
   "id": "1ca22211",
   "metadata": {},
   "source": [
    "## 🧠 3. Exponentiation\n",
    "Use `**` to raise a number to a power."
   ]
  },
  {
   "cell_type": "code",
   "execution_count": null,
   "id": "4ca40c75",
   "metadata": {},
   "outputs": [],
   "source": [
    "print(\"Exponentiation:\", x ** y)  # 10^3"
   ]
  },
  {
   "cell_type": "markdown",
   "id": "a414591f",
   "metadata": {},
   "source": [
    "## ⚖️ 4. Comparison Operators\n",
    "Used to compare values and return boolean results (`True` or `False`)."
   ]
  },
  {
   "cell_type": "code",
   "execution_count": null,
   "id": "e20a864e",
   "metadata": {},
   "outputs": [],
   "source": [
    "print(\"x == y:\", x == y)\n",
    "print(\"x != y:\", x != y)\n",
    "print(\"x > y:\", x > y)"
   ]
  },
  {
   "cell_type": "markdown",
   "id": "88944b23",
   "metadata": {},
   "source": [
    "## ✅ 5. Logical Operators\n",
    "Used to combine conditional statements."
   ]
  },
  {
   "cell_type": "code",
   "execution_count": null,
   "id": "3ad6ef40",
   "metadata": {},
   "outputs": [],
   "source": [
    "a = True\n",
    "b = False\n",
    "print(\"AND:\", a and b)\n",
    "print(\"OR:\", a or b)\n",
    "print(\"NOT a:\", not a)"
   ]
  },
  {
   "cell_type": "markdown",
   "id": "9f3963ff",
   "metadata": {},
   "source": [
    "## 🎯 Practice Task:\n",
    "> Write a program that checks if a number is divisible by both 3 and 5."
   ]
  }
 ],
 "metadata": {},
 "nbformat": 4,
 "nbformat_minor": 5
}