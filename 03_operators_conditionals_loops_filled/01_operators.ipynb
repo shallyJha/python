{
 "cells": [
  {
   "cell_type": "markdown",
   "id": "07913c2b",
   "metadata": {},
   "source": [
    "# 🧮 Operators in Python\n",
    "\n",
    "In this lesson, you'll learn how to perform operations in Python using various operators."
   ]
  },
  {
   "cell_type": "markdown",
   "id": "dba6b35e",
   "metadata": {},
   "source": [
    "## 📌 Introduction\n",
    "Operators are special symbols or keywords that perform operations on values or variables. Python supports different types of operators for arithmetic, comparison, assignment, logic, bitwise operations, identity, and membership testing."
   ]
  },
  {
   "cell_type": "markdown",
   "id": "7782e5ed",
   "metadata": {},
   "source": [
    "## ➕ 1. Arithmetic Operators\n",
    "\n",
    "Used for basic mathematical operations.\n",
    "\n",
    "| Operator | Description        | Example     |\n",
    "|----------|--------------------|-------------|\n",
    "| `+`      | Addition            | `a + b`     |\n",
    "| `-`      | Subtraction         | `a - b`     |\n",
    "| `*`      | Multiplication      | `a * b`     |\n",
    "| `/`      | Division            | `a / b`     |\n",
    "| `//`     | Floor Division      | `a // b`    |\n",
    "| `%`      | Modulus (remainder) | `a % b`     |\n",
    "| `**`     | Exponentiation      | `a ** b`    |"
   ]
  },
  {
   "cell_type": "code",
   "execution_count": 1,
   "id": "9cfbd2bc",
   "metadata": {},
   "outputs": [
    {
     "name": "stdout",
     "output_type": "stream",
     "text": [
      "Addition: 13\n",
      "Subtraction: 7\n",
      "Multiplication: 30\n",
      "Division: 3.3333333333333335\n"
     ]
    }
   ],
   "source": [
    "# Addition, Subtraction, Multiplication, Division\n",
    "x = 10\n",
    "y = 3\n",
    "print(\"Addition:\", x + y)\n",
    "print(\"Subtraction:\", x - y)\n",
    "print(\"Multiplication:\", x * y)\n",
    "print(\"Division:\", x / y)"
   ]
  },
  {
   "cell_type": "markdown",
   "id": "bdbadb90",
   "metadata": {},
   "source": [
    "## ➗ 2. Floor Division and Modulus\n",
    "- `//` returns the quotient without decimals\n",
    "- `%` returns the remainder"
   ]
  },
  {
   "cell_type": "code",
   "execution_count": 2,
   "id": "94e04a33",
   "metadata": {},
   "outputs": [
    {
     "name": "stdout",
     "output_type": "stream",
     "text": [
      "Floor Division: 3\n",
      "Modulus: 1\n"
     ]
    }
   ],
   "source": [
    "print(\"Floor Division:\", x // y)\n",
    "print(\"Modulus:\", x % y)"
   ]
  },
  {
   "cell_type": "markdown",
   "id": "1ca22211",
   "metadata": {},
   "source": [
    "## 🧠 3. Exponentiation\n",
    "Use `**` to raise a number to a power."
   ]
  },
  {
   "cell_type": "code",
   "execution_count": 3,
   "id": "4ca40c75",
   "metadata": {},
   "outputs": [
    {
     "name": "stdout",
     "output_type": "stream",
     "text": [
      "Exponentiation: 1000\n"
     ]
    }
   ],
   "source": [
    "print(\"Exponentiation:\", x ** y)  # 10^3"
   ]
  },
  {
   "cell_type": "markdown",
   "id": "a414591f",
   "metadata": {},
   "source": [
    "## 📝 2. Assignment Operators\n",
    "\n",
    "Used to assign or update the value of a variable.\n",
    "\n",
    "| Operator | Description        | Example        |\n",
    "|----------|--------------------|----------------|\n",
    "| `=`      | Assign value        | `x = 5`        |\n",
    "| `+=`     | Add and assign      | `x += 3`       |\n",
    "| `-=`     | Subtract and assign | `x -= 2`       |\n",
    "| `*=`     | Multiply and assign | `x *= 2`       |\n",
    "| `/=`     | Divide and assign   | `x /= 4`       |\n",
    "| `//=`    | Floor div and assign| `x //= 2`      |\n",
    "| `%=`     | Modulo and assign   | `x %= 3`       |\n",
    "| `**=`    | Power and assign    | `x **= 2`      |"
   ]
  },
  {
   "cell_type": "code",
   "execution_count": 4,
   "id": "e20a864e",
   "metadata": {},
   "outputs": [
    {
     "name": "stdout",
     "output_type": "stream",
     "text": [
      "x after += 5: 15\n",
      "x after *= 2: 30\n",
      "x after -= 4: 26\n",
      "x after /= 2: 13.0\n"
     ]
    }
   ],
   "source": [
    "x = 10\n",
    "x += 5\n",
    "print(\"x after += 5:\", x)\n",
    "\n",
    "x *= 2\n",
    "print(\"x after *= 2:\", x)\n",
    "\n",
    "x -= 4\n",
    "print(\"x after -= 4:\", x)\n",
    "\n",
    "x /= 2\n",
    "print(\"x after /= 2:\", x)"
   ]
  },
  {
   "cell_type": "markdown",
   "id": "88944b23",
   "metadata": {},
   "source": [
    "## ⚖️ 3. Comparison Operators\n",
    "\n",
    "Used to compare two values. The result is always a boolean (`True` or `False`).\n",
    "\n",
    "| Operator | Description         | Example     |\n",
    "|----------|---------------------|-------------|\n",
    "| `==`     | Equal to            | `a == b`    |\n",
    "| `!=`     | Not equal to        | `a != b`    |\n",
    "| `>`      | Greater than        | `a > b`     |\n",
    "| `<`      | Less than           | `a < b`     |\n",
    "| `>=`     | Greater or equal to | `a >= b`    |\n",
    "| `<=`     | Less or equal to    | `a <= b`    |"
   ]
  },
  {
   "cell_type": "code",
   "execution_count": 5,
   "id": "3ad6ef40",
   "metadata": {},
   "outputs": [
    {
     "name": "stdout",
     "output_type": "stream",
     "text": [
      "a == b: False\n",
      "a != b: True\n",
      "a > b: False\n",
      "a <= b: True\n"
     ]
    }
   ],
   "source": [
    "a = 5\n",
    "b = 8\n",
    "print(\"a == b:\", a == b)\n",
    "print(\"a != b:\", a != b)\n",
    "print(\"a > b:\", a > b)\n",
    "print(\"a <= b:\", a <= b)"
   ]
  },
  {
   "cell_type": "markdown",
   "id": "f733f54e",
   "metadata": {},
   "source": [
    "## 🧮 5. Bitwise Operators\n",
    "\n",
    "Used to compare individual bits.\n",
    "\n",
    "| Operator | Description     | Example     |\n",
    "|----------|-----------------|-------------|\n",
    "| `&`      | Bitwise AND     | `a & b`     |\n",
    "| `|`      | Bitwise OR      | `a | b`     |\n",
    "| `^`      | Bitwise XOR     | `a ^ b`     |\n",
    "| `~`      | Bitwise NOT     | `~a`        |\n",
    "| `<<`     | Left shift      | `a << 2`    |\n",
    "| `>>`     | Right shift     | `a >> 2`    |"
   ]
  },
  {
   "cell_type": "code",
   "execution_count": 6,
   "id": "886a4ab0",
   "metadata": {},
   "outputs": [
    {
     "name": "stdout",
     "output_type": "stream",
     "text": [
      "a & b: 1\n",
      "a | b: 7\n",
      "a ^ b: 6\n",
      "~a: -6\n",
      "a << 1: 10\n",
      "a >> 1: 2\n"
     ]
    }
   ],
   "source": [
    "a = 5   # 0101\n",
    "b = 3   # 0011\n",
    "print(\"a & b:\", a & b)   # 0001 -> 1\n",
    "print(\"a | b:\", a | b)   # 0111 -> 7\n",
    "print(\"a ^ b:\", a ^ b)   # 0110 -> 6\n",
    "print(\"~a:\", ~a)         # Inverts all bits\n",
    "print(\"a << 1:\", a << 1) # 1010 -> 10\n",
    "print(\"a >> 1:\", a >> 1) # 0010 -> 2"
   ]
  },
  {
   "cell_type": "markdown",
   "id": "abd95d2a",
   "metadata": {},
   "source": [
    "## 🆔 6. Identity Operators\n",
    "\n",
    "Used to check if two variables point to the same object.\n",
    "\n",
    "| Operator | Description             |\n",
    "|----------|-------------------------|\n",
    "| `is`     | True if same object     |\n",
    "| `is not` | True if not same object |"
   ]
  },
  {
   "cell_type": "code",
   "execution_count": 7,
   "id": "58aa82f2",
   "metadata": {},
   "outputs": [
    {
     "name": "stdout",
     "output_type": "stream",
     "text": [
      "x is y: True\n",
      "x is z: False\n",
      "x == z: True\n"
     ]
    }
   ],
   "source": [
    "x = [1, 2, 3]\n",
    "y = x\n",
    "z = [1, 2, 3]\n",
    "\n",
    "print(\"x is y:\", x is y)       # True\n",
    "print(\"x is z:\", x is z)       # False\n",
    "print(\"x == z:\", x == z)       # True (values match)"
   ]
  },
  {
   "cell_type": "markdown",
   "id": "58f2290f",
   "metadata": {},
   "source": [
    "## 🔍 7. Membership Operators\n",
    "\n",
    "Used to check if a value is in a sequence (like a list, string, tuple, etc.)\n",
    "\n",
    "| Operator | Description              |\n",
    "|----------|--------------------------|\n",
    "| `in`     | True if present          |\n",
    "| `not in` | True if not present      |"
   ]
  },
  {
   "cell_type": "code",
   "execution_count": 8,
   "id": "990e7dd1",
   "metadata": {},
   "outputs": [
    {
     "name": "stdout",
     "output_type": "stream",
     "text": [
      "2 in nums: True\n",
      "5 not in nums: True\n"
     ]
    }
   ],
   "source": [
    "nums = [1, 2, 3, 4]\n",
    "print(\"2 in nums:\", 2 in nums)\n",
    "print(\"5 not in nums:\", 5 not in nums)"
   ]
  },
  {
   "cell_type": "markdown",
   "id": "d0b355ae",
   "metadata": {},
   "source": [
    "## 🧪 Practice Exercises"
   ]
  },
  {
   "cell_type": "markdown",
   "id": "011b5576",
   "metadata": {},
   "source": [
    "1. Write a program to take two numbers and print their sum, product, difference, and whether the first is greater than the second."
   ]
  },
  {
   "cell_type": "code",
   "execution_count": 2,
   "id": "99d8bc0a",
   "metadata": {},
   "outputs": [
    {
     "name": "stdout",
     "output_type": "stream",
     "text": [
      "8\n",
      "4\n",
      "12\n",
      "a is greater than b\n"
     ]
    }
   ],
   "source": [
    "a=int(input(\"Write first number!\"))\n",
    "b=int(input(\"Write second number!\"))\n",
    "sum=a+b\n",
    "print(sum)\n",
    "diff=a-b\n",
    "print(diff)\n",
    "pro=a*b\n",
    "print(pro)\n",
    "if(a>b):\n",
    "    print(\"a is greater than b\")\n",
    "else:\n",
    "    print(\"b is greater than a\")\n"
   ]
  },
  {
   "cell_type": "markdown",
   "id": "70739412",
   "metadata": {},
   "source": [
    "2. Use bitwise operators to find the AND and OR of two binary values."
   ]
  },
  {
   "cell_type": "code",
   "execution_count": 5,
   "id": "d4e8c0a9",
   "metadata": {},
   "outputs": [
    {
     "name": "stdout",
     "output_type": "stream",
     "text": [
      "a & b: 1\n",
      "a | b: 15\n"
     ]
    }
   ],
   "source": [
    "# Write your code here\n",
    "a = 9  \n",
    "b = 7   \n",
    "print(\"a & b:\", a & b)   \n",
    "print(\"a | b:\", a | b)"
   ]
  },
  {
   "cell_type": "markdown",
   "id": "972843a6",
   "metadata": {},
   "source": [
    "3. Write a membership test to check if a character exists in a string."
   ]
  },
  {
   "cell_type": "code",
   "execution_count": 6,
   "id": "398a206e",
   "metadata": {},
   "outputs": [
    {
     "name": "stdout",
     "output_type": "stream",
     "text": [
      "2 in nums: True\n",
      "5 not in nums: True\n"
     ]
    }
   ],
   "source": [
    "# Write your code here\n",
    "nums = [1, 2, 3, 4]\n",
    "print(\"2 in nums:\", 2 in nums)\n",
    "print(\"5 not in nums:\", 5 not in nums)"
   ]
  },
  {
   "cell_type": "markdown",
   "id": "80107476",
   "metadata": {},
   "source": [
    "4. Compare the use of `is` vs `==` with a short example."
   ]
  },
  {
   "cell_type": "code",
   "execution_count": null,
   "id": "ed8beed1",
   "metadata": {},
   "outputs": [
    {
     "name": "stdout",
     "output_type": "stream",
     "text": [
      "a is b: True\n",
      "a is c: False\n",
      "a == c: True\n"
     ]
    }
   ],
   "source": [
    "# Write your code here\n",
    "a = [11,12,13]\n",
    "b = a\n",
    "c = [11, 12, 13]\n",
    "\n",
    "print(\"a is b:\", a is b)      \n",
    "print(\"a is c:\", a is c)       \n",
    "print(\"a == c:\", a == c)       "
   ]
  },
  {
   "cell_type": "markdown",
   "id": "9f3963ff",
   "metadata": {},
   "source": [
    "## ✅ Summary\n",
    "\n",
    "- Python provides a wide variety of operators to perform actions on values and variables.\n",
    "- Understanding each type of operator will make your code cleaner and more expressive."
   ]
  }
 ],
 "metadata": {
  "kernelspec": {
   "display_name": "venv",
   "language": "python",
   "name": "python3"
  },
  "language_info": {
   "codemirror_mode": {
    "name": "ipython",
    "version": 3
   },
   "file_extension": ".py",
   "mimetype": "text/x-python",
   "name": "python",
   "nbconvert_exporter": "python",
   "pygments_lexer": "ipython3",
   "version": "3.13.2"
  }
 },
 "nbformat": 4,
 "nbformat_minor": 5
}
