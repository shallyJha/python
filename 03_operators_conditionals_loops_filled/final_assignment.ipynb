{
 "cells": [
  {
   "cell_type": "markdown",
   "id": "f32f1cd6",
   "metadata": {},
   "source": [
    "# 🧪 Final Assignment: Operators, Conditionals, Loops"
   ]
  },
  {
   "cell_type": "markdown",
   "id": "576e2125",
   "metadata": {},
   "source": [
    "## Instructions:\n",
    "Solve the problems below with proper formatting and testing."
   ]
  },
  {
   "cell_type": "markdown",
   "id": "3c379756",
   "metadata": {},
   "source": [
    "### 1. Ask the user for 2 numbers and display their sum, product, and average."
   ]
  },
  {
   "cell_type": "code",
   "execution_count": null,
   "id": "44174e0f",
   "metadata": {},
   "outputs": [],
   "source": []
  },
  {
   "cell_type": "markdown",
   "id": "f62ab755",
   "metadata": {},
   "source": [
    "### 2. Write a program that checks whether a number is divisible by 3, 5, or both."
   ]
  },
  {
   "cell_type": "code",
   "execution_count": null,
   "id": "743239df",
   "metadata": {},
   "outputs": [],
   "source": []
  },
  {
   "cell_type": "markdown",
   "id": "e16db86a",
   "metadata": {},
   "source": [
    "### 3. Create a loop that prints all even numbers from 1 to 20."
   ]
  },
  {
   "cell_type": "code",
   "execution_count": null,
   "id": "2fa137ab",
   "metadata": {},
   "outputs": [],
   "source": []
  },
  {
   "cell_type": "markdown",
   "id": "182501c4",
   "metadata": {},
   "source": [
    "### 4. Use nested loops to print the following pattern:\n",
    "```\n",
    "1\n",
    "12\n",
    "123\n",
    "1234\n",
    "```"
   ]
  },
  {
   "cell_type": "code",
   "execution_count": null,
   "id": "863136b2",
   "metadata": {},
   "outputs": [],
   "source": []
  }
 ],
 "metadata": {},
 "nbformat": 4,
 "nbformat_minor": 5
}