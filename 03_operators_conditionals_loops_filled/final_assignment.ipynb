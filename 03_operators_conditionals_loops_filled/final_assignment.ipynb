{
 "cells": [
  {
   "cell_type": "markdown",
   "id": "b8aaab13",
   "metadata": {},
   "source": [
    "# 🧪 Assignment: Operators, Conditionals, and Loops\n",
    "\n",
    "Welcome to your assignment! This is your chance to apply everything you’ve learned in this module. The assignment is split into three sections — complete each part carefully."
   ]
  },
  {
   "cell_type": "markdown",
   "id": "5d85b3c5",
   "metadata": {},
   "source": [
    "## ➕ Part 1: Operators"
   ]
  },
  {
   "cell_type": "markdown",
   "id": "81e3c1e0",
   "metadata": {},
   "source": [
    "### 1. Create a program that takes two integers as input and prints:\n",
    "- Their sum\n",
    "- Their product\n",
    "- Their difference\n",
    "- Their remainder (modulus)\n",
    "- Which one is greater"
   ]
  },
  {
   "cell_type": "code",
   "execution_count": null,
   "id": "35a6ebb1",
   "metadata": {},
   "outputs": [],
   "source": [
    "# Write your code here"
   ]
  },
  {
   "cell_type": "markdown",
   "id": "b70a2b90",
   "metadata": {},
   "source": [
    "### 2. Show the use of **all assignment operators** (`+=`, `-=`, `*=`, `/=`, `**=`, `//=`, `%=`) on a single variable and print results after each operation."
   ]
  },
  {
   "cell_type": "code",
   "execution_count": 1,
   "id": "2de2f5f1",
   "metadata": {},
   "outputs": [],
   "source": [
    "# Write your code here"
   ]
  },
  {
   "cell_type": "markdown",
   "id": "94ff3e73",
   "metadata": {},
   "source": [
    "### 3. Demonstrate at least **three bitwise operations** on any two small integers."
   ]
  },
  {
   "cell_type": "code",
   "execution_count": 2,
   "id": "e28d41fc",
   "metadata": {},
   "outputs": [],
   "source": [
    "# Write your code here"
   ]
  },
  {
   "cell_type": "markdown",
   "id": "09f2b5ac",
   "metadata": {},
   "source": [
    "### 4. Write a program that checks if a character is **not** in a given string using membership operators."
   ]
  },
  {
   "cell_type": "code",
   "execution_count": 3,
   "id": "a7132988",
   "metadata": {},
   "outputs": [],
   "source": [
    "# Write your code here"
   ]
  },
  {
   "cell_type": "markdown",
   "id": "ab64093a",
   "metadata": {},
   "source": [
    "## 🔀 Part 2: Conditionals"
   ]
  },
  {
   "cell_type": "markdown",
   "id": "af0280a7",
   "metadata": {},
   "source": [
    "### 5. Ask the user for their **age** and:\n",
    "- If they are under 13, print \"Child\"\n",
    "- If between 13 and 19, print \"Teenager\"\n",
    "- If between 20 and 59, print \"Adult\"\n",
    "- If 60 or above, print \"Senior\""
   ]
  },
  {
   "cell_type": "code",
   "execution_count": null,
   "id": "a30c0176",
   "metadata": {},
   "outputs": [],
   "source": [
    "# Write your code here"
   ]
  },
  {
   "cell_type": "markdown",
   "id": "b6e645e5",
   "metadata": {},
   "source": [
    "### 6. Ask the user to enter a number and print:\n",
    "- \"Positive Even\" if it is positive and even\n",
    "- \"Positive Odd\" if it is positive and odd\n",
    "- \"Negative\" if it is below zero\n",
    "- \"Zero\" if it is 0\n",
    "\n",
    "Use **nested conditionals**."
   ]
  },
  {
   "cell_type": "code",
   "execution_count": null,
   "id": "775fb160",
   "metadata": {},
   "outputs": [],
   "source": [
    "# Write your code here"
   ]
  },
  {
   "cell_type": "markdown",
   "id": "8d58b702",
   "metadata": {},
   "source": [
    "### 7. Write a program that checks whether a year is a **leap year**:\n",
    "- A leap year is divisible by 4\n",
    "- Not a leap year if divisible by 100, **unless** also divisible by 400"
   ]
  },
  {
   "cell_type": "code",
   "execution_count": 5,
   "id": "b11408cd",
   "metadata": {},
   "outputs": [],
   "source": [
    "# Write your code here"
   ]
  },
  {
   "cell_type": "markdown",
   "id": "7f89720a",
   "metadata": {},
   "source": [
    "### 8. Use a **ternary operator** to print whether a person is eligible to get a driving license (age >= 18)."
   ]
  },
  {
   "cell_type": "code",
   "execution_count": 6,
   "id": "f0c23c67",
   "metadata": {},
   "outputs": [],
   "source": [
    "# Write your code here"
   ]
  },
  {
   "cell_type": "markdown",
   "id": "e05a043d",
   "metadata": {},
   "source": [
    "## 🔁 Part 3: Loops"
   ]
  },
  {
   "cell_type": "markdown",
   "id": "e93ba325",
   "metadata": {},
   "source": [
    "### 9. Print the **first 10 odd numbers** using a `for` loop."
   ]
  },
  {
   "cell_type": "code",
   "execution_count": 7,
   "id": "3e9fd917",
   "metadata": {},
   "outputs": [],
   "source": [
    "# Write your code here"
   ]
  },
  {
   "cell_type": "markdown",
   "id": "24c3157e",
   "metadata": {},
   "source": [
    "### 10. Ask the user for a number and print its **multiplication table** (up to 10)."
   ]
  },
  {
   "cell_type": "code",
   "execution_count": 8,
   "id": "4b0f2666",
   "metadata": {},
   "outputs": [],
   "source": [
    "# Write your code here"
   ]
  },
  {
   "cell_type": "markdown",
   "id": "20e4faf1",
   "metadata": {},
   "source": [
    "### 11. Create a **countdown timer** from 10 to 1 using a `while` loop."
   ]
  },
  {
   "cell_type": "code",
   "execution_count": 9,
   "id": "edef7556",
   "metadata": {},
   "outputs": [],
   "source": [
    "# Write your code here"
   ]
  },
  {
   "cell_type": "markdown",
   "id": "299c9bef",
   "metadata": {},
   "source": [
    "### 12. Use **nested loops** to print the following square pattern:\n",
    "```\n",
    "* * * *\n",
    "* * * *\n",
    "* * * *\n",
    "* * * *\n",
    "```"
   ]
  },
  {
   "cell_type": "code",
   "execution_count": 10,
   "id": "38b88bb0",
   "metadata": {},
   "outputs": [],
   "source": [
    "# Write your code here"
   ]
  },
  {
   "cell_type": "markdown",
   "id": "3b8fb720",
   "metadata": {},
   "source": [
    "### 13. Print the following pattern using nested loops:\n",
    "```\n",
    "1\n",
    "1 2\n",
    "1 2 3\n",
    "1 2 3 4\n",
    "```"
   ]
  },
  {
   "cell_type": "code",
   "execution_count": 11,
   "id": "0ac50b85",
   "metadata": {},
   "outputs": [],
   "source": [
    "# Write your code here"
   ]
  },
  {
   "cell_type": "markdown",
   "id": "3cc4333b",
   "metadata": {},
   "source": [
    "## ✅ Submission Notes\n",
    "\n",
    "- Comment your code where necessary.\n",
    "- Run each cell to test your logic.\n",
    "- Save your notebook as `operators_conditionals_loops_assignment.ipynb`.\n",
    "\n",
    "Good luck! 🎯"
   ]
  }
 ],
 "metadata": {
  "kernelspec": {
   "display_name": "Python 3",
   "language": "python",
   "name": "python3"
  },
  "language_info": {
   "codemirror_mode": {
    "name": "ipython",
    "version": 3
   },
   "file_extension": ".py",
   "mimetype": "text/x-python",
   "name": "python",
   "nbconvert_exporter": "python",
   "pygments_lexer": "ipython3",
   "version": "3.13.2"
  }
 },
 "nbformat": 4,
 "nbformat_minor": 5
}
