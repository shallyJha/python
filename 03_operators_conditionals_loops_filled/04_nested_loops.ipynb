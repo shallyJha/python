{
 "cells": [
  {
   "cell_type": "markdown",
   "id": "0163779a",
   "metadata": {},
   "source": [
    "# 🔂 Nested Loops and Patterns"
   ]
  },
  {
   "cell_type": "markdown",
   "id": "35742593",
   "metadata": {},
   "source": [
    "## 📌 What are Nested Loops?\n",
    "A loop inside another loop."
   ]
  },
  {
   "cell_type": "code",
   "execution_count": null,
   "id": "a59c97df",
   "metadata": {},
   "outputs": [],
   "source": [
    "for i in range(3):\n",
    "    for j in range(2):\n",
    "        print(f\"i={i}, j={j}\")"
   ]
  },
  {
   "cell_type": "markdown",
   "id": "c4f63b9a",
   "metadata": {},
   "source": [
    "## 🧱 Pattern Printing Example"
   ]
  },
  {
   "cell_type": "code",
   "execution_count": null,
   "id": "34653089",
   "metadata": {},
   "outputs": [],
   "source": [
    "rows = 5\n",
    "for i in range(1, rows+1):\n",
    "    print('*' * i)"
   ]
  },
  {
   "cell_type": "markdown",
   "id": "bba0c81d",
   "metadata": {},
   "source": [
    "## 🧪 Task:\n",
    "> Create a right-aligned triangle pattern of `#` symbols."
   ]
  }
 ],
 "metadata": {},
 "nbformat": 4,
 "nbformat_minor": 5
}